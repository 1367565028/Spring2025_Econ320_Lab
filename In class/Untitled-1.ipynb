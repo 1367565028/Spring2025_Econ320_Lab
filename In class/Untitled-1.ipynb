{
 "cells": [
  {
   "cell_type": "markdown",
   "metadata": {},
   "source": [
    "# In class exercise for Lab 8"
   ]
  },
  {
   "cell_type": "markdown",
   "metadata": {},
   "source": [
    "Michael Zhao"
   ]
  },
  {
   "cell_type": "code",
   "execution_count": 35,
   "metadata": {},
   "outputs": [],
   "source": [
    "# import libraries\n",
    "import pandas as pd\n",
    "import statsmodels.formula.api as smf\n",
    "from stargazer.stargazer import Stargazer\n",
    "from IPython.core.display import HTML"
   ]
  },
  {
   "cell_type": "code",
   "execution_count": 41,
   "metadata": {},
   "outputs": [
    {
     "data": {
      "application/vnd.microsoft.datawrangler.viewer.v0+json": {
       "columns": [
        {
         "name": "index",
         "rawType": "object",
         "type": "string"
        },
        {
         "name": "rating",
         "rawType": "float64",
         "type": "float"
        },
        {
         "name": "complaints",
         "rawType": "float64",
         "type": "float"
        },
        {
         "name": "privileges",
         "rawType": "float64",
         "type": "float"
        },
        {
         "name": "learning",
         "rawType": "float64",
         "type": "float"
        },
        {
         "name": "raises",
         "rawType": "float64",
         "type": "float"
        },
        {
         "name": "critical",
         "rawType": "float64",
         "type": "float"
        },
        {
         "name": "advance",
         "rawType": "float64",
         "type": "float"
        }
       ],
       "conversionMethod": "pd.DataFrame",
       "ref": "10c5fa73-6158-46a4-9e94-5e8ac8163066",
       "rows": [
        [
         "count",
         "30.0",
         "30.0",
         "30.0",
         "30.0",
         "30.0",
         "30.0",
         "30.0"
        ],
        [
         "mean",
         "64.63333333333334",
         "66.6",
         "53.13333333333333",
         "56.36666666666667",
         "64.63333333333334",
         "74.76666666666667",
         "42.93333333333333"
        ],
        [
         "std",
         "12.172561947585896",
         "13.314757174679894",
         "12.235429993524411",
         "11.737012876552868",
         "10.397225536198333",
         "9.894907548951576",
         "10.288706005342354"
        ],
        [
         "min",
         "40.0",
         "37.0",
         "30.0",
         "34.0",
         "43.0",
         "49.0",
         "25.0"
        ],
        [
         "25%",
         "58.75",
         "58.5",
         "45.0",
         "47.0",
         "58.25",
         "69.25",
         "35.0"
        ],
        [
         "50%",
         "65.5",
         "65.0",
         "51.5",
         "56.5",
         "63.5",
         "77.5",
         "41.0"
        ],
        [
         "75%",
         "71.75",
         "77.0",
         "62.5",
         "66.75",
         "71.0",
         "80.0",
         "47.75"
        ],
        [
         "max",
         "85.0",
         "90.0",
         "83.0",
         "75.0",
         "88.0",
         "92.0",
         "72.0"
        ]
       ],
       "shape": {
        "columns": 7,
        "rows": 8
       }
      },
      "text/html": [
       "<div>\n",
       "<style scoped>\n",
       "    .dataframe tbody tr th:only-of-type {\n",
       "        vertical-align: middle;\n",
       "    }\n",
       "\n",
       "    .dataframe tbody tr th {\n",
       "        vertical-align: top;\n",
       "    }\n",
       "\n",
       "    .dataframe thead th {\n",
       "        text-align: right;\n",
       "    }\n",
       "</style>\n",
       "<table border=\"1\" class=\"dataframe\">\n",
       "  <thead>\n",
       "    <tr style=\"text-align: right;\">\n",
       "      <th></th>\n",
       "      <th>rating</th>\n",
       "      <th>complaints</th>\n",
       "      <th>privileges</th>\n",
       "      <th>learning</th>\n",
       "      <th>raises</th>\n",
       "      <th>critical</th>\n",
       "      <th>advance</th>\n",
       "    </tr>\n",
       "  </thead>\n",
       "  <tbody>\n",
       "    <tr>\n",
       "      <th>count</th>\n",
       "      <td>30.000000</td>\n",
       "      <td>30.000000</td>\n",
       "      <td>30.000000</td>\n",
       "      <td>30.000000</td>\n",
       "      <td>30.000000</td>\n",
       "      <td>30.000000</td>\n",
       "      <td>30.000000</td>\n",
       "    </tr>\n",
       "    <tr>\n",
       "      <th>mean</th>\n",
       "      <td>64.633333</td>\n",
       "      <td>66.600000</td>\n",
       "      <td>53.133333</td>\n",
       "      <td>56.366667</td>\n",
       "      <td>64.633333</td>\n",
       "      <td>74.766667</td>\n",
       "      <td>42.933333</td>\n",
       "    </tr>\n",
       "    <tr>\n",
       "      <th>std</th>\n",
       "      <td>12.172562</td>\n",
       "      <td>13.314757</td>\n",
       "      <td>12.235430</td>\n",
       "      <td>11.737013</td>\n",
       "      <td>10.397226</td>\n",
       "      <td>9.894908</td>\n",
       "      <td>10.288706</td>\n",
       "    </tr>\n",
       "    <tr>\n",
       "      <th>min</th>\n",
       "      <td>40.000000</td>\n",
       "      <td>37.000000</td>\n",
       "      <td>30.000000</td>\n",
       "      <td>34.000000</td>\n",
       "      <td>43.000000</td>\n",
       "      <td>49.000000</td>\n",
       "      <td>25.000000</td>\n",
       "    </tr>\n",
       "    <tr>\n",
       "      <th>25%</th>\n",
       "      <td>58.750000</td>\n",
       "      <td>58.500000</td>\n",
       "      <td>45.000000</td>\n",
       "      <td>47.000000</td>\n",
       "      <td>58.250000</td>\n",
       "      <td>69.250000</td>\n",
       "      <td>35.000000</td>\n",
       "    </tr>\n",
       "    <tr>\n",
       "      <th>50%</th>\n",
       "      <td>65.500000</td>\n",
       "      <td>65.000000</td>\n",
       "      <td>51.500000</td>\n",
       "      <td>56.500000</td>\n",
       "      <td>63.500000</td>\n",
       "      <td>77.500000</td>\n",
       "      <td>41.000000</td>\n",
       "    </tr>\n",
       "    <tr>\n",
       "      <th>75%</th>\n",
       "      <td>71.750000</td>\n",
       "      <td>77.000000</td>\n",
       "      <td>62.500000</td>\n",
       "      <td>66.750000</td>\n",
       "      <td>71.000000</td>\n",
       "      <td>80.000000</td>\n",
       "      <td>47.750000</td>\n",
       "    </tr>\n",
       "    <tr>\n",
       "      <th>max</th>\n",
       "      <td>85.000000</td>\n",
       "      <td>90.000000</td>\n",
       "      <td>83.000000</td>\n",
       "      <td>75.000000</td>\n",
       "      <td>88.000000</td>\n",
       "      <td>92.000000</td>\n",
       "      <td>72.000000</td>\n",
       "    </tr>\n",
       "  </tbody>\n",
       "</table>\n",
       "</div>"
      ],
      "text/plain": [
       "          rating  complaints  privileges   learning     raises   critical  \\\n",
       "count  30.000000   30.000000   30.000000  30.000000  30.000000  30.000000   \n",
       "mean   64.633333   66.600000   53.133333  56.366667  64.633333  74.766667   \n",
       "std    12.172562   13.314757   12.235430  11.737013  10.397226   9.894908   \n",
       "min    40.000000   37.000000   30.000000  34.000000  43.000000  49.000000   \n",
       "25%    58.750000   58.500000   45.000000  47.000000  58.250000  69.250000   \n",
       "50%    65.500000   65.000000   51.500000  56.500000  63.500000  77.500000   \n",
       "75%    71.750000   77.000000   62.500000  66.750000  71.000000  80.000000   \n",
       "max    85.000000   90.000000   83.000000  75.000000  88.000000  92.000000   \n",
       "\n",
       "         advance  \n",
       "count  30.000000  \n",
       "mean   42.933333  \n",
       "std    10.288706  \n",
       "min    25.000000  \n",
       "25%    35.000000  \n",
       "50%    41.000000  \n",
       "75%    47.750000  \n",
       "max    72.000000  "
      ]
     },
     "metadata": {},
     "output_type": "display_data"
    }
   ],
   "source": [
    "# Load the attitude dataset given in the question\n",
    "attitude = pd.read_csv('attitude.csv')\n",
    "# This is a summary table\n",
    "summary= attitude.describe()\n",
    "display(summary)"
   ]
  },
  {
   "cell_type": "markdown",
   "metadata": {},
   "source": [
    "\n",
    "   $$ Rating = \\beta_0 + \\beta_1*Complaints + \\beta_2*Privileges + \\beta_3*Learning + \\beta_4*Raises +          \\beta_5*Critical$$\n",
    "      \n",
    "      \n",
    "      \n",
    "   $$ \n",
    "   Rating = \\beta_0 + \\beta_1 \\cdot Complaints + \\beta_2 \\cdot Privileges + \\beta_3 \\cdot Learning \n",
    "   $$ "
   ]
  },
  {
   "cell_type": "code",
   "execution_count": 37,
   "metadata": {},
   "outputs": [],
   "source": [
    "# Run regression based on the 2 formulas given\n",
    "linear_1 = smf.ols('rating ~ complaints + privileges + learning + raises + critical', data=attitude).fit()\n",
    "linear_2 = smf.ols('rating ~ complaints + privileges + learning', data=attitude).fit()\n",
    "\n",
    "\n"
   ]
  },
  {
   "cell_type": "code",
   "execution_count": 40,
   "metadata": {},
   "outputs": [],
   "source": [
    "# Combining the results and try all the commands\n",
    "stargazer = Stargazer([linear_1, linear_2])\n",
    "stargazer.title(\"Attitude Regressions ;)\")\n",
    "stargazer.show_header = True\n",
    "stargazer.show_model_numbers = True\n",
    "stargazer.custom_columns(['Linear 1: Rating = B0 + B1 * Complaints + B2 * Privileges + B3 * Learning + B4 * Raises + B5 * Critical', 'Linear 2: Rating = B0+ B1 * Complaints + B2 * Privileges + B3 * Learning'], [1, 1])\n",
    "stargazer.significance_levels([0.01, 0.05, 0.1])\n",
    "stargazer.significant_digits(3)\n",
    "stargazer.show_confidence_intervals(True)\n",
    "stargazer.dependent_variable_name(\"Rating Score\")\n",
    "stargazer.rename_covariates({\n",
    "    \"Intercept\": \"intercept\",\n",
    "    \"complaints\": \"complaint\",\n",
    "    \"privileges\": \"privilege\",\n",
    "    \"learning\": \"learning\",\n",
    "    \"raises\": \"raise\",\n",
    "    \"critical\": \"critical\"\n",
    "})\n",
    "stargazer.covariate_order([\"critical\", \"complaints\", \"privileges\", \"learning\", \"raises\", \"Intercept\"])\n",
    "stargazer.reset_covariate_order()\n",
    "stargazer.show_degrees_of_freedom = True\n",
    "stargazer.custom_note_label(\"This command is fun!\")\n",
    "stargazer.add_custom_notes([\"My name is michael\", \"I love pizza\"])\n",
    "stargazer.append_notes = True\n"
   ]
  },
  {
   "cell_type": "code",
   "execution_count": 39,
   "metadata": {},
   "outputs": [
    {
     "data": {
      "text/html": [
       "Attitude Regressions ;)<br><table style=\"text-align:center\"><tr><td colspan=\"3\" style=\"border-bottom: 1px solid black\"></td></tr>\n",
       "<tr><td style=\"text-align:left\"></td><td colspan=\"2\"><em>Dependent variable: Rating Score</em></td></tr><tr><td style=\"text-align:left\"></td><tr><td></td><td colspan=\"1\">Linear 1: Rating = B0 + B1 * Complaints + B2 * Privileges + B3 * Learning + B4 * Raises + B5 * Critical</td><td colspan=\"1\">Linear 2: Rating = B0+ B1 * Complaints + B2 * Privileges + B3 * Learning</td></tr><tr><td style=\"text-align:left\"></td><td>(1)</td><td>(2)</td></tr>\n",
       "<tr><td colspan=\"3\" style=\"border-bottom: 1px solid black\"></td></tr>\n",
       "\n",
       "<tr><td style=\"text-align:left\">intercept</td><td>11.011<sup></sup></td><td>11.258<sup></sup></td></tr>\n",
       "<tr><td style=\"text-align:left\"></td><td>(-13.145 , 35.167)</td><td>(-3.785 , 26.301)</td></tr>\n",
       "<tr><td style=\"text-align:left\">complaint</td><td>0.692<sup>***</sup></td><td>0.682<sup>***</sup></td></tr>\n",
       "<tr><td style=\"text-align:left\"></td><td>(0.385 , 0.999)</td><td>(0.418 , 0.947)</td></tr>\n",
       "<tr><td style=\"text-align:left\">critical</td><td>0.015<sup></sup></td><td></td></tr>\n",
       "<tr><td style=\"text-align:left\"></td><td>(-0.288 , 0.319)</td><td></td></tr>\n",
       "<tr><td style=\"text-align:left\">learning</td><td>0.249<sup></sup></td><td>0.238<sup>*</sup></td></tr>\n",
       "<tr><td style=\"text-align:left\"></td><td>(-0.080 , 0.578)</td><td>(-0.049 , 0.525)</td></tr>\n",
       "<tr><td style=\"text-align:left\">privilege</td><td>-0.104<sup></sup></td><td>-0.103<sup></sup></td></tr>\n",
       "<tr><td style=\"text-align:left\"></td><td>(-0.382 , 0.175)</td><td>(-0.369 , 0.163)</td></tr>\n",
       "<tr><td style=\"text-align:left\">raise</td><td>-0.033<sup></sup></td><td></td></tr>\n",
       "<tr><td style=\"text-align:left\"></td><td>(-0.451 , 0.384)</td><td></td></tr>\n",
       "\n",
       "<td colspan=\"3\" style=\"border-bottom: 1px solid black\"></td></tr>\n",
       "<tr><td style=\"text-align: left\">Observations</td><td>30</td><td>30</td></tr><tr><td style=\"text-align: left\">R<sup>2</sup></td><td>0.715</td><td>0.715</td></tr><tr><td style=\"text-align: left\">Adjusted R<sup>2</sup></td><td>0.656</td><td>0.682</td></tr><tr><td style=\"text-align: left\">Residual Std. Error</td><td>7.139 (df=24)</td><td>6.863 (df=26)</td></tr><tr><td style=\"text-align: left\">F Statistic</td><td>12.063<sup>***</sup> (df=5; 24)</td><td>21.743<sup>***</sup> (df=3; 26)</td></tr>\n",
       "<tr><td colspan=\"3\" style=\"border-bottom: 1px solid black\"></td></tr><tr><td style=\"text-align: left\">This command is fun!</td><td colspan=\"2\" style=\"text-align: right\"><sup>*</sup>p&lt;0.1; <sup>**</sup>p&lt;0.05; <sup>***</sup>p&lt;0.01</td></tr><tr><td colspan=\"3\" style=\"text-align: right\">My name is michael</td></tr><tr><td colspan=\"3\" style=\"text-align: right\">I love pizza</td></tr></table>"
      ],
      "text/plain": [
       "<IPython.core.display.HTML object>"
      ]
     },
     "execution_count": 39,
     "metadata": {},
     "output_type": "execute_result"
    }
   ],
   "source": [
    "# Render the HTML table\n",
    "HTML(stargazer.render_html())"
   ]
  }
 ],
 "metadata": {
  "kernelspec": {
   "display_name": "base",
   "language": "python",
   "name": "python3"
  },
  "language_info": {
   "codemirror_mode": {
    "name": "ipython",
    "version": 3
   },
   "file_extension": ".py",
   "mimetype": "text/x-python",
   "name": "python",
   "nbconvert_exporter": "python",
   "pygments_lexer": "ipython3",
   "version": "3.12.7"
  }
 },
 "nbformat": 4,
 "nbformat_minor": 2
}
