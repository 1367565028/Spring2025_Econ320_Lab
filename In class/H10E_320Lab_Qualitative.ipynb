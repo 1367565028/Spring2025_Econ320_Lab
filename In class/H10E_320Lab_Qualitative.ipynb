{
 "cells": [
  {
   "cell_type": "markdown",
   "metadata": {},
   "source": [
    "<h1 style=\"text-align: center; color: purple;\" markdown=\"1\">Econ 320 Python Lab Regression Analysis and Qualitative Regressors </h1>\n",
    "<h2 style=\"text-align: center; color: purple;\" markdown=\"1\">Handout 9</h2>\n",
    "\n",
    "Many variables of interest are qualitative rather than quantitative. Gender, race, marital status, level of education, ocupation, region, etc. Qualitative information is ussualy represented in regressions as binary or dummy variables which can only take a value zero or one. \n",
    "\n",
    "**The set up**"
   ]
  },
  {
   "cell_type": "code",
   "execution_count": 1,
   "metadata": {},
   "outputs": [],
   "source": [
    "import wooldridge as woo\n",
    "import numpy as np\n",
    "import pandas as pd\n",
    "import seaborn as sns\n",
    "import matplotlib.pyplot as plt\n",
    "\n",
    "import statsmodels.api as sm\n",
    "import statsmodels.formula.api as smf\n",
    "import scipy.stats as stats\n",
    "\n",
    "from stargazer.stargazer import Stargazer\n",
    "from IPython.core.display import HTML"
   ]
  },
  {
   "cell_type": "markdown",
   "metadata": {},
   "source": [
    "## Dummy variables \n",
    "\n",
    "Dummy variables can be used as regressors just as any other variables. The coefficient of a single dummy variable added to regression represents the difference in the intercepet between groups, see Wooldridge (2019, Section 7.2)\n",
    "\n",
    "Let's use an example in which we want to estimate a wage equation, and investigate what are the wage differences by gender. Once we have generated the dummy variable we just need to include it in our regression formula. \n",
    "\n",
    "We will use our wage1 dataset from Wooldridge. First we want to check how is our variable of interest distributed. The gender variable in this dataset can be found in the variable female. A dummy variable that takes the value of 1 if the individual is female and 0 if male. \n",
    "\n",
    "We are going to use the function `pd.crosstab(index=variable, columns=column names)` to see the distribution of gender in our data, this will create a frequency table with the number of women and men in the sample."
   ]
  },
  {
   "cell_type": "code",
   "execution_count": 2,
   "metadata": {},
   "outputs": [
    {
     "name": "stdout",
     "output_type": "stream",
     "text": [
      "<class 'pandas.core.frame.DataFrame'>\n",
      "RangeIndex: 526 entries, 0 to 525\n",
      "Data columns (total 24 columns):\n",
      " #   Column    Non-Null Count  Dtype  \n",
      "---  ------    --------------  -----  \n",
      " 0   wage      526 non-null    float64\n",
      " 1   educ      526 non-null    int64  \n",
      " 2   exper     526 non-null    int64  \n",
      " 3   tenure    526 non-null    int64  \n",
      " 4   nonwhite  526 non-null    int64  \n",
      " 5   female    526 non-null    int64  \n",
      " 6   married   526 non-null    int64  \n",
      " 7   numdep    526 non-null    int64  \n",
      " 8   smsa      526 non-null    int64  \n",
      " 9   northcen  526 non-null    int64  \n",
      " 10  south     526 non-null    int64  \n",
      " 11  west      526 non-null    int64  \n",
      " 12  construc  526 non-null    int64  \n",
      " 13  ndurman   526 non-null    int64  \n",
      " 14  trcommpu  526 non-null    int64  \n",
      " 15  trade     526 non-null    int64  \n",
      " 16  services  526 non-null    int64  \n",
      " 17  profserv  526 non-null    int64  \n",
      " 18  profocc   526 non-null    int64  \n",
      " 19  clerocc   526 non-null    int64  \n",
      " 20  servocc   526 non-null    int64  \n",
      " 21  lwage     526 non-null    float64\n",
      " 22  expersq   526 non-null    int64  \n",
      " 23  tenursq   526 non-null    int64  \n",
      "dtypes: float64(2), int64(22)\n",
      "memory usage: 98.8 KB\n"
     ]
    }
   ],
   "source": [
    "# load wage1 data from wooldridge package\n",
    "wage1 = woo.dataWoo('wage1')\n",
    "wage1.info()"
   ]
  },
  {
   "cell_type": "code",
   "execution_count": 3,
   "metadata": {},
   "outputs": [
    {
     "data": {
      "application/vnd.microsoft.datawrangler.viewer.v0+json": {
       "columns": [
        {
         "name": "female",
         "rawType": "int64",
         "type": "integer"
        },
        {
         "name": "count",
         "rawType": "int64",
         "type": "integer"
        }
       ],
       "conversionMethod": "pd.DataFrame",
       "ref": "5c881edc-65e4-4a02-a27b-f597dc42e97d",
       "rows": [
        [
         "0",
         "274"
        ],
        [
         "1",
         "252"
        ]
       ],
       "shape": {
        "columns": 1,
        "rows": 2
       }
      },
      "text/html": [
       "<div>\n",
       "<style scoped>\n",
       "    .dataframe tbody tr th:only-of-type {\n",
       "        vertical-align: middle;\n",
       "    }\n",
       "\n",
       "    .dataframe tbody tr th {\n",
       "        vertical-align: top;\n",
       "    }\n",
       "\n",
       "    .dataframe thead th {\n",
       "        text-align: right;\n",
       "    }\n",
       "</style>\n",
       "<table border=\"1\" class=\"dataframe\">\n",
       "  <thead>\n",
       "    <tr style=\"text-align: right;\">\n",
       "      <th>col_0</th>\n",
       "      <th>count</th>\n",
       "    </tr>\n",
       "    <tr>\n",
       "      <th>female</th>\n",
       "      <th></th>\n",
       "    </tr>\n",
       "  </thead>\n",
       "  <tbody>\n",
       "    <tr>\n",
       "      <th>0</th>\n",
       "      <td>274</td>\n",
       "    </tr>\n",
       "    <tr>\n",
       "      <th>1</th>\n",
       "      <td>252</td>\n",
       "    </tr>\n",
       "  </tbody>\n",
       "</table>\n",
       "</div>"
      ],
      "text/plain": [
       "col_0   count\n",
       "female       \n",
       "0         274\n",
       "1         252"
      ]
     },
     "execution_count": 3,
     "metadata": {},
     "output_type": "execute_result"
    }
   ],
   "source": [
    "# Name the count column\n",
    "# Crosstab to see how many women we have. \n",
    "pd.crosstab(index = wage1['female'],\n",
    "           columns = \"count\")"
   ]
  },
  {
   "cell_type": "markdown",
   "metadata": {},
   "source": [
    "We are interested in the wage differences by gender. The regression equation will be the following formula\n",
    "\n",
    "Model 1 $$log(wage) = \\beta_0 + \\beta_1*female + \\beta_2*educ + \\beta_3*exper + \\beta_4*tenure$$\n",
    "Model 2 & 3 Restrict the data only for men and only for women $$log(wage) = \\beta_0 + \\beta_1*female + \\beta_2*educ + \\beta_3*exper + \\beta_4*tenure$$\n",
    "\n",
    "Model 4 Interact education, experience and tenure with female \n",
    "\n",
    "$$log(wage) = \\beta_0 + \\beta_1*female + \\beta_2*educ(female==0) + \\beta_3*exper(female==0) + \\\\ \\beta_4*tenure(female==0) + \\beta_5*educ(female==1) + \\beta_6*exper(female==1) + \\beta_7*tenure(female==1)$$\n",
    "\n",
    "* A scatter plot with regression lines by gender will provide you with a good graphical representation of what you are trying to estimate in your regression. Now in applied research sometimes, or often this might not be as obvious as it is here but the plot can be very iluminating. We are going to do it wit education and wages by gender. \n",
    "* Run the regression that estimates the equation for the first model\n",
    "* We will then run the other three models. \n",
    "\n",
    "> CAVEAT: these three models are run for pedagogical purposes. You dont need to do this for every dummy in a regression. But this allows me to ilustrate the impact of a dummy variable. "
   ]
  },
  {
   "cell_type": "code",
   "execution_count": 4,
   "metadata": {},
   "outputs": [
    {
     "data": {
      "text/html": [
       "<table class=\"simpletable\">\n",
       "<caption>OLS Regression Results</caption>\n",
       "<tr>\n",
       "  <th>Dep. Variable:</th>         <td>lwage</td>     <th>  R-squared:         </th> <td>   0.392</td>\n",
       "</tr>\n",
       "<tr>\n",
       "  <th>Model:</th>                  <td>OLS</td>      <th>  Adj. R-squared:    </th> <td>   0.388</td>\n",
       "</tr>\n",
       "<tr>\n",
       "  <th>Method:</th>            <td>Least Squares</td> <th>  F-statistic:       </th> <td>   84.07</td>\n",
       "</tr>\n",
       "<tr>\n",
       "  <th>Date:</th>             <td>周五, 28 3月 2025</td> <th>  Prob (F-statistic):</th> <td>4.68e-55</td>\n",
       "</tr>\n",
       "<tr>\n",
       "  <th>Time:</th>                <td>13:07:38</td>    <th>  Log-Likelihood:    </th> <td> -282.46</td>\n",
       "</tr>\n",
       "<tr>\n",
       "  <th>No. Observations:</th>     <td>   526</td>     <th>  AIC:               </th> <td>   574.9</td>\n",
       "</tr>\n",
       "<tr>\n",
       "  <th>Df Residuals:</th>         <td>   521</td>     <th>  BIC:               </th> <td>   596.2</td>\n",
       "</tr>\n",
       "<tr>\n",
       "  <th>Df Model:</th>             <td>     4</td>     <th>                     </th>     <td> </td>   \n",
       "</tr>\n",
       "<tr>\n",
       "  <th>Covariance Type:</th>     <td>nonrobust</td>   <th>                     </th>     <td> </td>   \n",
       "</tr>\n",
       "</table>\n",
       "<table class=\"simpletable\">\n",
       "<tr>\n",
       "      <td></td>         <th>coef</th>     <th>std err</th>      <th>t</th>      <th>P>|t|</th>  <th>[0.025</th>    <th>0.975]</th>  \n",
       "</tr>\n",
       "<tr>\n",
       "  <th>Intercept</th> <td>    0.5013</td> <td>    0.102</td> <td>    4.920</td> <td> 0.000</td> <td>    0.301</td> <td>    0.702</td>\n",
       "</tr>\n",
       "<tr>\n",
       "  <th>female</th>    <td>   -0.3011</td> <td>    0.037</td> <td>   -8.085</td> <td> 0.000</td> <td>   -0.374</td> <td>   -0.228</td>\n",
       "</tr>\n",
       "<tr>\n",
       "  <th>educ</th>      <td>    0.0875</td> <td>    0.007</td> <td>   12.605</td> <td> 0.000</td> <td>    0.074</td> <td>    0.101</td>\n",
       "</tr>\n",
       "<tr>\n",
       "  <th>exper</th>     <td>    0.0046</td> <td>    0.002</td> <td>    2.845</td> <td> 0.005</td> <td>    0.001</td> <td>    0.008</td>\n",
       "</tr>\n",
       "<tr>\n",
       "  <th>tenure</th>    <td>    0.0174</td> <td>    0.003</td> <td>    5.835</td> <td> 0.000</td> <td>    0.012</td> <td>    0.023</td>\n",
       "</tr>\n",
       "</table>\n",
       "<table class=\"simpletable\">\n",
       "<tr>\n",
       "  <th>Omnibus:</th>       <td>12.037</td> <th>  Durbin-Watson:     </th> <td>   1.775</td>\n",
       "</tr>\n",
       "<tr>\n",
       "  <th>Prob(Omnibus):</th> <td> 0.002</td> <th>  Jarque-Bera (JB):  </th> <td>  22.360</td>\n",
       "</tr>\n",
       "<tr>\n",
       "  <th>Skew:</th>          <td> 0.012</td> <th>  Prob(JB):          </th> <td>1.40e-05</td>\n",
       "</tr>\n",
       "<tr>\n",
       "  <th>Kurtosis:</th>      <td> 4.010</td> <th>  Cond. No.          </th> <td>    141.</td>\n",
       "</tr>\n",
       "</table><br/><br/>Notes:<br/>[1] Standard Errors assume that the covariance matrix of the errors is correctly specified."
      ],
      "text/latex": [
       "\\begin{center}\n",
       "\\begin{tabular}{lclc}\n",
       "\\toprule\n",
       "\\textbf{Dep. Variable:}    &     lwage      & \\textbf{  R-squared:         } &     0.392   \\\\\n",
       "\\textbf{Model:}            &      OLS       & \\textbf{  Adj. R-squared:    } &     0.388   \\\\\n",
       "\\textbf{Method:}           & Least Squares  & \\textbf{  F-statistic:       } &     84.07   \\\\\n",
       "\\textbf{Date:}             & 周五, 28 3月 2025 & \\textbf{  Prob (F-statistic):} &  4.68e-55   \\\\\n",
       "\\textbf{Time:}             &    13:07:38    & \\textbf{  Log-Likelihood:    } &   -282.46   \\\\\n",
       "\\textbf{No. Observations:} &        526     & \\textbf{  AIC:               } &     574.9   \\\\\n",
       "\\textbf{Df Residuals:}     &        521     & \\textbf{  BIC:               } &     596.2   \\\\\n",
       "\\textbf{Df Model:}         &          4     & \\textbf{                     } &             \\\\\n",
       "\\textbf{Covariance Type:}  &   nonrobust    & \\textbf{                     } &             \\\\\n",
       "\\bottomrule\n",
       "\\end{tabular}\n",
       "\\begin{tabular}{lcccccc}\n",
       "                   & \\textbf{coef} & \\textbf{std err} & \\textbf{t} & \\textbf{P$> |$t$|$} & \\textbf{[0.025} & \\textbf{0.975]}  \\\\\n",
       "\\midrule\n",
       "\\textbf{Intercept} &       0.5013  &        0.102     &     4.920  &         0.000        &        0.301    &        0.702     \\\\\n",
       "\\textbf{female}    &      -0.3011  &        0.037     &    -8.085  &         0.000        &       -0.374    &       -0.228     \\\\\n",
       "\\textbf{educ}      &       0.0875  &        0.007     &    12.605  &         0.000        &        0.074    &        0.101     \\\\\n",
       "\\textbf{exper}     &       0.0046  &        0.002     &     2.845  &         0.005        &        0.001    &        0.008     \\\\\n",
       "\\textbf{tenure}    &       0.0174  &        0.003     &     5.835  &         0.000        &        0.012    &        0.023     \\\\\n",
       "\\bottomrule\n",
       "\\end{tabular}\n",
       "\\begin{tabular}{lclc}\n",
       "\\textbf{Omnibus:}       & 12.037 & \\textbf{  Durbin-Watson:     } &    1.775  \\\\\n",
       "\\textbf{Prob(Omnibus):} &  0.002 & \\textbf{  Jarque-Bera (JB):  } &   22.360  \\\\\n",
       "\\textbf{Skew:}          &  0.012 & \\textbf{  Prob(JB):          } & 1.40e-05  \\\\\n",
       "\\textbf{Kurtosis:}      &  4.010 & \\textbf{  Cond. No.          } &     141.  \\\\\n",
       "\\bottomrule\n",
       "\\end{tabular}\n",
       "%\\caption{OLS Regression Results}\n",
       "\\end{center}\n",
       "\n",
       "Notes: \\newline\n",
       " [1] Standard Errors assume that the covariance matrix of the errors is correctly specified."
      ],
      "text/plain": [
       "<class 'statsmodels.iolib.summary.Summary'>\n",
       "\"\"\"\n",
       "                            OLS Regression Results                            \n",
       "==============================================================================\n",
       "Dep. Variable:                  lwage   R-squared:                       0.392\n",
       "Model:                            OLS   Adj. R-squared:                  0.388\n",
       "Method:                 Least Squares   F-statistic:                     84.07\n",
       "Date:                  周五, 28 3月 2025   Prob (F-statistic):           4.68e-55\n",
       "Time:                        13:07:38   Log-Likelihood:                -282.46\n",
       "No. Observations:                 526   AIC:                             574.9\n",
       "Df Residuals:                     521   BIC:                             596.2\n",
       "Df Model:                           4                                         \n",
       "Covariance Type:            nonrobust                                         \n",
       "==============================================================================\n",
       "                 coef    std err          t      P>|t|      [0.025      0.975]\n",
       "------------------------------------------------------------------------------\n",
       "Intercept      0.5013      0.102      4.920      0.000       0.301       0.702\n",
       "female        -0.3011      0.037     -8.085      0.000      -0.374      -0.228\n",
       "educ           0.0875      0.007     12.605      0.000       0.074       0.101\n",
       "exper          0.0046      0.002      2.845      0.005       0.001       0.008\n",
       "tenure         0.0174      0.003      5.835      0.000       0.012       0.023\n",
       "==============================================================================\n",
       "Omnibus:                       12.037   Durbin-Watson:                   1.775\n",
       "Prob(Omnibus):                  0.002   Jarque-Bera (JB):               22.360\n",
       "Skew:                           0.012   Prob(JB):                     1.40e-05\n",
       "Kurtosis:                       4.010   Cond. No.                         141.\n",
       "==============================================================================\n",
       "\n",
       "Notes:\n",
       "[1] Standard Errors assume that the covariance matrix of the errors is correctly specified.\n",
       "\"\"\""
      ]
     },
     "execution_count": 4,
     "metadata": {},
     "output_type": "execute_result"
    }
   ],
   "source": [
    "m1 = smf.ols(formula='lwage ~ female +educ + exper +tenure', data=wage1)\n",
    "m1 = m1.fit()\n",
    "# print regression table:\n",
    "m1.summary()"
   ]
  },
  {
   "cell_type": "code",
   "execution_count": 5,
   "metadata": {},
   "outputs": [
    {
     "data": {
      "text/plain": [
       "<Figure size 1000x800 with 0 Axes>"
      ]
     },
     "metadata": {},
     "output_type": "display_data"
    },
    {
     "data": {
      "image/png": "[encoded data removed]",
      "text/plain": [
       "<Figure size 557.75x500 with 1 Axes>"
      ]
     },
     "metadata": {},
     "output_type": "display_data"
    }
   ],
   "source": [
    "# lmplot of educ and log(wage) with regression line by gender \n",
    "# and 95% confidence interval for the regression line\n",
    "# use the seaborn package\n",
    "sns.set_style(\"ticks\");  # Optional, sets the style of the plot\n",
    "plt.figure(figsize=(10, 8));  # Optional, set the figure size\n",
    "\n",
    "sns.lmplot(x=\"educ\", y=\"lwage\", data=wage1, hue=\"female\", palette={0: \"blue\", 1: \"magenta\"});\n",
    "\n",
    "# Set labels and title\n",
    "plt.xlabel(\"Education Level\");\n",
    "plt.ylabel(\"Log of Wage\");\n",
    "plt.title(\"Regression Plot of Education vs. Log Wage by Gender\");\n",
    "\n",
    "# Show the plot\n",
    "plt.show();"
   ]
  },
  {
   "cell_type": "code",
   "execution_count": 6,
   "metadata": {},
   "outputs": [
    {
     "data": {
      "text/html": [
       "Regression on Wages<br><table style=\"text-align:center\"><tr><td colspan=\"5\" style=\"border-bottom: 1px solid black\"></td></tr>\n",
       "<tr><td style=\"text-align:left\"></td><td colspan=\"4\"><em>Dependent variable: lwage</em></td></tr><tr><td style=\"text-align:left\"></td><tr><td></td><td colspan=\"1\">All</td><td colspan=\"1\">Only men</td><td colspan=\"1\">Only women</td><td colspan=\"1\">Interaction</td></tr><tr><td style=\"text-align:left\"></td><td>(1)</td><td>(2)</td><td>(3)</td><td>(4)</td></tr>\n",
       "<tr><td colspan=\"5\" style=\"border-bottom: 1px solid black\"></td></tr>\n",
       "\n",
       "<tr><td style=\"text-align:left\">Intercept</td><td>0.501<sup>***</sup></td><td>0.322<sup>**</sup></td><td>0.356<sup>**</sup></td><td>0.322<sup>**</sup></td></tr>\n",
       "<tr><td style=\"text-align:left\"></td><td>(0.102)</td><td>(0.139)</td><td>(0.141)</td><td>(0.135)</td></tr>\n",
       "<tr><td style=\"text-align:left\">female</td><td>-0.301<sup>***</sup></td><td></td><td></td><td>0.034<sup></sup></td></tr>\n",
       "<tr><td style=\"text-align:left\"></td><td>(0.037)</td><td></td><td></td><td>(0.199)</td></tr>\n",
       "<tr><td style=\"text-align:left\">educ</td><td>0.087<sup>***</sup></td><td>0.096<sup>***</sup></td><td>0.080<sup>***</sup></td><td>0.096<sup>***</sup></td></tr>\n",
       "<tr><td style=\"text-align:left\"></td><td>(0.007)</td><td>(0.009)</td><td>(0.010)</td><td>(0.009)</td></tr>\n",
       "<tr><td style=\"text-align:left\">exper</td><td>0.005<sup>***</sup></td><td>0.008<sup>***</sup></td><td>0.002<sup></sup></td><td>0.008<sup>***</sup></td></tr>\n",
       "<tr><td style=\"text-align:left\"></td><td>(0.002)</td><td>(0.002)</td><td>(0.002)</td><td>(0.002)</td></tr>\n",
       "<tr><td style=\"text-align:left\">tenure</td><td>0.017<sup>***</sup></td><td>0.018<sup>***</sup></td><td>0.010<sup>*</sup></td><td>0.018<sup>***</sup></td></tr>\n",
       "<tr><td style=\"text-align:left\"></td><td>(0.003)</td><td>(0.004)</td><td>(0.005)</td><td>(0.004)</td></tr>\n",
       "<tr><td style=\"text-align:left\">educ:female</td><td></td><td></td><td></td><td>-0.016<sup></sup></td></tr>\n",
       "<tr><td style=\"text-align:left\"></td><td></td><td></td><td></td><td>(0.014)</td></tr>\n",
       "<tr><td style=\"text-align:left\">exper:female</td><td></td><td></td><td></td><td>-0.006<sup>*</sup></td></tr>\n",
       "<tr><td style=\"text-align:left\"></td><td></td><td></td><td></td><td>(0.003)</td></tr>\n",
       "<tr><td style=\"text-align:left\">tenure:female</td><td></td><td></td><td></td><td>-0.008<sup></sup></td></tr>\n",
       "<tr><td style=\"text-align:left\"></td><td></td><td></td><td></td><td>(0.007)</td></tr>\n",
       "\n",
       "<td colspan=\"5\" style=\"border-bottom: 1px solid black\"></td></tr>\n",
       "<tr><td style=\"text-align: left\">Observations</td><td>526</td><td>274</td><td>252</td><td>526</td></tr><tr><td style=\"text-align: left\">R<sup>2</sup></td><td>0.392</td><td>0.365</td><td>0.212</td><td>0.403</td></tr><tr><td style=\"text-align: left\">Adjusted R<sup>2</sup></td><td>0.388</td><td>0.358</td><td>0.202</td><td>0.395</td></tr><tr><td style=\"text-align: left\">Residual Std. Error</td><td>0.416 (df=521)</td><td>0.428 (df=270)</td><td>0.397 (df=248)</td><td>0.414 (df=518)</td></tr><tr><td style=\"text-align: left\">F Statistic</td><td>84.072<sup>***</sup> (df=4; 521)</td><td>51.836<sup>***</sup> (df=3; 270)</td><td>22.233<sup>***</sup> (df=3; 248)</td><td>49.912<sup>***</sup> (df=7; 518)</td></tr>\n",
       "<tr><td colspan=\"5\" style=\"border-bottom: 1px solid black\"></td></tr><tr><td style=\"text-align: left\">Note:</td><td colspan=\"4\" style=\"text-align: right\"><sup>*</sup>p&lt;0.1; <sup>**</sup>p&lt;0.05; <sup>***</sup>p&lt;0.01</td></tr></table>"
      ],
      "text/plain": [
       "<IPython.core.display.HTML object>"
      ]
     },
     "execution_count": 6,
     "metadata": {},
     "output_type": "execute_result"
    }
   ],
   "source": [
    "# You can also filter your data and create two separate equations but the most efficient way is to add the subset option inside the lm command data=subset()\n",
    "\n",
    "m2 = smf.ols(formula = 'lwage ~  educ + exper + tenure', data = wage1, \n",
    "             subset=(wage1['female']==0)).fit()\n",
    "#You need to interact each regressor with the female variable for the models to be the same \n",
    "# when you restrict the sample do it below in model m3\n",
    "m3 = smf.ols(formula = 'lwage ~  educ + exper +tenure', data = wage1 , \n",
    "             subset=(wage1['female']==1)).fit()\n",
    "\n",
    "m4 = smf.ols(formula = 'lwage ~ female +educ*female + exper*female +tenure*female', \n",
    "             data = wage1).fit()\n",
    "\n",
    "# Put these models in stargazer table with the intercept at the bottom see the table \n",
    "# print regression table:\n",
    "\n",
    "models = Stargazer([m1, m2, m3, m4])\n",
    "models.title('Regression on Wages')\n",
    "models.custom_columns(['All', 'Only men', 'Only women', 'Interaction'], [1, 1, 1, 1])\n",
    "models.covariate_order(['Intercept', 'female' , 'educ' , 'exper', 'tenure', 'educ:female', 'exper:female','tenure:female'])\n",
    "HTML(models.render_html())\n",
    "\n",
    "\n",
    "# Now, what can you say about the coefficients for the dummy variable female?"
   ]
  },
  {
   "cell_type": "markdown",
   "metadata": {},
   "source": [
    "## Dummy variables and arithmetic formulas into a regression  \n",
    "\n",
    "We can run another regression with the following formula \n",
    "\n",
    "$$log(wage) = \\beta_0 + \\beta_1*married + \\beta_2*female + \\beta_3*married*female + \\beta_4*educ + \\beta_5*exper + \\beta_6*exper^2 + \\beta_7*tenure + \\beta_8*tenure^2$$\n",
    "\n",
    "Notice how we are adding married and female dummy variables in the regression and also two squared variables into the regression \n",
    "\n",
    "These dummy variables are added as they are because they take 1 for category of interest and 0 for the other. \n",
    "\n",
    "When you want to add variables that are arithmetic operations of other variables instead of creating a separate variable you can add them just by using `I(formula)`\n",
    "\n",
    "* Run the new regression that estimates the new equation with tenure and experience squared \n",
    "* Run another regression with an interaction term of female and education"
   ]
  },
  {
   "cell_type": "code",
   "execution_count": 7,
   "metadata": {},
   "outputs": [
    {
     "data": {
      "text/html": [
       "<table style=\"text-align:center\"><tr><td colspan=\"4\" style=\"border-bottom: 1px solid black\"></td></tr>\n",
       "<tr><td style=\"text-align:left\"></td><td colspan=\"3\"><em>Dependent variable: np.log(wage)</em></td></tr><tr><td style=\"text-align:left\"></td><tr><td style=\"text-align:left\"></td><td>(1)</td><td>(2)</td><td>(3)</td></tr>\n",
       "<tr><td colspan=\"4\" style=\"border-bottom: 1px solid black\"></td></tr>\n",
       "\n",
       "<tr><td style=\"text-align:left\">Intercept</td><td>0.321<sup>***</sup></td><td>0.390<sup>***</sup></td><td>0.390<sup>***</sup></td></tr>\n",
       "<tr><td style=\"text-align:left\"></td><td>(0.100)</td><td>(0.119)</td><td>(0.119)</td></tr>\n",
       "<tr><td style=\"text-align:left\">female</td><td>-0.110<sup>**</sup></td><td>-0.220<sup></sup></td><td>-0.220<sup></sup></td></tr>\n",
       "<tr><td style=\"text-align:left\"></td><td>(0.056)</td><td>(0.168)</td><td>(0.168)</td></tr>\n",
       "<tr><td style=\"text-align:left\">educ</td><td>0.079<sup>***</sup></td><td>0.081<sup>***</sup></td><td>0.081<sup>***</sup></td></tr>\n",
       "<tr><td style=\"text-align:left\"></td><td>(0.007)</td><td>(0.009)</td><td>(0.009)</td></tr>\n",
       "<tr><td style=\"text-align:left\">exper</td><td>0.027<sup>***</sup></td><td>0.027<sup>***</sup></td><td>0.027<sup>***</sup></td></tr>\n",
       "<tr><td style=\"text-align:left\"></td><td>(0.005)</td><td>(0.005)</td><td>(0.005)</td></tr>\n",
       "<tr><td style=\"text-align:left\">tenure</td><td>0.029<sup>***</sup></td><td>0.031<sup>***</sup></td><td>0.031<sup>***</sup></td></tr>\n",
       "<tr><td style=\"text-align:left\"></td><td>(0.007)</td><td>(0.007)</td><td>(0.007)</td></tr>\n",
       "<tr><td style=\"text-align:left\">married</td><td>0.213<sup>***</sup></td><td>0.053<sup></sup></td><td>0.053<sup></sup></td></tr>\n",
       "<tr><td style=\"text-align:left\"></td><td>(0.055)</td><td>(0.041)</td><td>(0.041)</td></tr>\n",
       "<tr><td style=\"text-align:left\">married:female</td><td>-0.301<sup>***</sup></td><td></td><td></td></tr>\n",
       "<tr><td style=\"text-align:left\"></td><td>(0.072)</td><td></td><td></td></tr>\n",
       "<tr><td style=\"text-align:left\">educ:female</td><td></td><td></td><td>-0.006<sup></sup></td></tr>\n",
       "<tr><td style=\"text-align:left\"></td><td></td><td></td><td>(0.013)</td></tr>\n",
       "<tr><td style=\"text-align:left\">I(exper ** 2)</td><td>-0.001<sup>***</sup></td><td>-0.001<sup>***</sup></td><td>-0.001<sup>***</sup></td></tr>\n",
       "<tr><td style=\"text-align:left\"></td><td>(0.000)</td><td>(0.000)</td><td>(0.000)</td></tr>\n",
       "<tr><td style=\"text-align:left\">I(tenure ** 2)</td><td>-0.001<sup>**</sup></td><td>-0.001<sup>**</sup></td><td>-0.001<sup>**</sup></td></tr>\n",
       "<tr><td style=\"text-align:left\"></td><td>(0.000)</td><td>(0.000)</td><td>(0.000)</td></tr>\n",
       "<tr><td style=\"text-align:left\">I(educ * female)</td><td></td><td>-0.006<sup></sup></td><td></td></tr>\n",
       "<tr><td style=\"text-align:left\"></td><td></td><td>(0.013)</td><td></td></tr>\n",
       "\n",
       "<td colspan=\"4\" style=\"border-bottom: 1px solid black\"></td></tr>\n",
       "<tr><td style=\"text-align: left\">Observations</td><td>526</td><td>526</td><td>526</td></tr><tr><td style=\"text-align: left\">R<sup>2</sup></td><td>0.461</td><td>0.443</td><td>0.443</td></tr><tr><td style=\"text-align: left\">Adjusted R<sup>2</sup></td><td>0.453</td><td>0.434</td><td>0.434</td></tr><tr><td style=\"text-align: left\">Residual Std. Error</td><td>0.393 (df=517)</td><td>0.400 (df=517)</td><td>0.400 (df=517)</td></tr><tr><td style=\"text-align: left\">F Statistic</td><td>55.246<sup>***</sup> (df=8; 517)</td><td>51.353<sup>***</sup> (df=8; 517)</td><td>51.353<sup>***</sup> (df=8; 517)</td></tr>\n",
       "<tr><td colspan=\"4\" style=\"border-bottom: 1px solid black\"></td></tr><tr><td style=\"text-align: left\">Note:</td><td colspan=\"3\" style=\"text-align: right\"><sup>*</sup>p&lt;0.1; <sup>**</sup>p&lt;0.05; <sup>***</sup>p&lt;0.01</td></tr></table>"
      ],
      "text/plain": [
       "<IPython.core.display.HTML object>"
      ]
     },
     "execution_count": 7,
     "metadata": {},
     "output_type": "execute_result"
    }
   ],
   "source": [
    "reg = smf.ols(formula='np.log(wage) ~ married*female + educ + exper +'\n",
    "              'I(exper**2) + tenure +I(tenure**2)', data=wage1)\n",
    "results = reg.fit()\n",
    "#results.summary()\n",
    "\n",
    "reg1 = smf.ols(formula='np.log(wage) ~ married + educ + female + I(educ*female) + exper +'\n",
    "              'I(exper**2) + tenure +I(tenure**2)', data=wage1)\n",
    "results1 = reg1.fit()\n",
    "#resulst.summary()\n",
    "\n",
    "reg2 = smf.ols(formula='np.log(wage) ~ married + educ*female + exper +'\n",
    "              'I(exper**2) + tenure +I(tenure**2)', data=wage1)\n",
    "results2 = reg2.fit()\n",
    "#resulst.summary() \n",
    "\n",
    "model4 = Stargazer([results, results1, results2])\n",
    "model4.covariate_order(['Intercept','female' , 'educ' , 'exper', 'tenure', 'married',\n",
    "                        'married:female' , 'educ:female', 'I(exper ** 2)', 'I(tenure ** 2)', 'I(educ * female)'])\n",
    "HTML(model4.render_html())"
   ]
  },
  {
   "cell_type": "markdown",
   "metadata": {},
   "source": [
    "# The other option use only the interaction, there is no need to include the variables alone Python does it. "
   ]
  },
  {
   "cell_type": "markdown",
   "metadata": {},
   "source": [
    "## Function to create dummies \n",
    "\n",
    "Another way of creating a dummy variable is defining a function see below:\n",
    "\n",
    "```{\n",
    "    def f(x):\n",
    "    if 'criteria for x':\n",
    "        return 1\n",
    "    else: \n",
    "        return 0\n",
    "\n",
    " data['newdummy']=data['vartochange'].apply(f)\n",
    " \n",
    " ```"
   ]
  },
  {
   "cell_type": "code",
   "execution_count": null,
   "metadata": {},
   "outputs": [],
   "source": [
    "# define function dummy\n",
    "# Define criteria, return 1 , else return 0\n",
    "\n",
    "   \n",
    "\n",
    "wage1[\"HS\"] = \n",
    "wage1[[\"educ\", \"HS\"]].value_counts(dropna=False)\n",
    "\n"
   ]
  },
  {
   "cell_type": "markdown",
   "metadata": {},
   "source": [
    "## Boolean Variables\n",
    "\n",
    "To store qualitative yes or no information Python uses **Boolean variables**. Instead of transforming boolean variables into 0/1 dummy variables tehy can be directly used as regressors in the output their coefficient is then named `varname[T.True]`. These variables are treated such that **TRUE=1** and **FALSE=0**.\n",
    "\n",
    "Below we will take the femail dummy variable and recoded as a boolean variable and introduce it in the regression. See below. \n"
   ]
  },
  {
   "cell_type": "code",
   "execution_count": null,
   "metadata": {},
   "outputs": [],
   "source": [
    "display(wage1.numdep.value_counts())\n",
    "# Create the boolean variable \n",
    "# Define a criteria in parenthesis and save that into a new variable\n",
    "# In this case, has dependents \n"
   ]
  },
  {
   "cell_type": "markdown",
   "metadata": {},
   "source": [
    "## Regression with logical variable"
   ]
  },
  {
   "cell_type": "code",
   "execution_count": null,
   "metadata": {},
   "outputs": [],
   "source": [
    "# regression with boolean variable:\n",
    "\n",
    "m6 = smf.ols(formula='np.log(wage) ~ female + hasdep + educ + exper + tenure', data=wage1)\n",
    "m6 = m6.fit()\n",
    "\n",
    "\n",
    "m6s = Stargazer([m6])\n",
    "m6s.covariate_order(['Intercept', \"female\", 'hasdep[T.True]' , 'educ' , 'exper', 'tenure'])\n",
    "m6s.rename_covariates({'isfemale[T.True]': 'Female:True'})\n",
    "HTML(m6s.render_html())\n"
   ]
  },
  {
   "cell_type": "code",
   "execution_count": null,
   "metadata": {},
   "outputs": [],
   "source": [
    "!jupyter nbconvert --to html H10E_320Lab_Qualitative.ipynb"
   ]
  },
  {
   "cell_type": "markdown",
   "metadata": {},
   "source": [
    "&nbsp;\n",
    "<hr />\n",
    "<p style=\"font-family:palatino; text-align: center;font-size: 15px\">ECON320 Python Programming Laboratory</a></p>\n",
    "<p style=\"font-family:palatino; text-align: center;font-size: 15px\">Professor <em> Paloma Lopez de mesa Moyano</em></a></p>\n",
    "<p style=\"font-family:palatino; text-align: center;font-size: 15px\"><span style=\"color: #6666FF;\"><em>paloma.moyano@emory.edu</em></span></p>\n",
    "\n",
    "<p style=\"font-family:palatino; text-align: center;font-size: 15px\">Department of Economics</a></p>\n",
    "<p style=\"font-family:palatino; text-align: center; color: #012169;font-size: 15px\">Emory University</a></p>\n",
    "\n",
    "&nbsp;"
   ]
  }
 ],
 "metadata": {
  "kernelspec": {
   "display_name": "base",
   "language": "python",
   "name": "python3"
  },
  "language_info": {
   "codemirror_mode": {
    "name": "ipython",
    "version": 3
   },
   "file_extension": ".py",
   "mimetype": "text/x-python",
   "name": "python",
   "nbconvert_exporter": "python",
   "pygments_lexer": "ipython3",
   "version": "3.12.7"
  }
 },
 "nbformat": 4,
 "nbformat_minor": 4
}
