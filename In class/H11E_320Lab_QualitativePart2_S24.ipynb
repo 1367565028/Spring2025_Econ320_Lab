{
 "cells": [
  {
   "cell_type": "markdown",
   "metadata": {},
   "source": [
    "<h1 style=\"text-align: center; color: purple;\" markdown=\"1\">Econ 320 Python Lab Regression Analysis and Qualitative Regressors PART2</h1>\n",
    "<h2 style=\"text-align: center; color: purple;\" markdown=\"1\">Handout 11</h2>\n",
    "\n",
    "Many variables of interest are qualitative rather than quantitative. Gender, race, marital status, level of education, ocupation, region, etc. Qualitative information is ussualy represented in regressions as binary or dummy variables which can only take a value zero or one. \n",
    "\n",
    "**The set up**"
   ]
  },
  {
   "cell_type": "code",
   "execution_count": 90,
   "metadata": {},
   "outputs": [],
   "source": [
    "import wooldridge as woo\n",
    "import numpy as np\n",
    "import pandas as pd\n",
    "\n",
    "import statsmodels.api as sm\n",
    "import statsmodels.formula.api as smf\n",
    "import scipy.stats as stats\n",
    "\n",
    "from stargazer.stargazer import Stargazer\n",
    "from IPython.core.display import HTML\n",
    "pd.options.display.float_format = '{:.3f}'.format"
   ]
  },
  {
   "cell_type": "markdown",
   "metadata": {},
   "source": [
    "## Categorical variables\n",
    "\n",
    "\n",
    "When estimating a linear regression in python using **statsmodels** you can easily transform any variable into a categorical variable using the function `C()` in the definition of the formula. Our **ols** function will add *g-1* dummy variables if the variable has *g* categories. As a refrence category the first category is left out by default. \n",
    "\n",
    "When you use categorical variables that have many categories, you have to choose a reference category and this is the ommitted variable that you use to avoid colinearity. By default the first category is left out in Python but we can use a second argument in the `C()` command where we procide a new reference group `somegroup` with the using the command **Treament(\"somegroup\")**. \n",
    "\n",
    "The code below shows how our categorical variables are used variables are used.\n",
    "\n",
    "* Table of categories and frequencies for two factor variables gender and occupation:\n",
    "* What type of variable is occupation\n",
    "* Regression with dummies for many categories from a categorical variable "
   ]
  },
  {
   "cell_type": "code",
   "execution_count": 91,
   "metadata": {},
   "outputs": [
    {
     "name": "stdout",
     "output_type": "stream",
     "text": [
      "<class 'pandas.core.frame.DataFrame'>\n",
      "RangeIndex: 3239553 entries, 0 to 3239552\n",
      "Data columns (total 8 columns):\n",
      " #   Column   Dtype\n",
      "---  ------   -----\n",
      " 0   AGE      int64\n",
      " 1   SEX      int64\n",
      " 2   MARST    int64\n",
      " 3   CITIZEN  int64\n",
      " 4   EDUC     int64\n",
      " 5   EDUCD    int64\n",
      " 6   LOOKING  int64\n",
      " 7   FTOTINC  int64\n",
      "dtypes: int64(8)\n",
      "memory usage: 197.7 MB\n"
     ]
    },
    {
     "data": {
      "application/vnd.microsoft.datawrangler.viewer.v0+json": {
       "columns": [
        {
         "name": "index",
         "rawType": "object",
         "type": "string"
        },
        {
         "name": "AGE",
         "rawType": "float64",
         "type": "float"
        },
        {
         "name": "SEX",
         "rawType": "float64",
         "type": "float"
        },
        {
         "name": "MARST",
         "rawType": "float64",
         "type": "float"
        },
        {
         "name": "CITIZEN",
         "rawType": "float64",
         "type": "float"
        },
        {
         "name": "EDUC",
         "rawType": "float64",
         "type": "float"
        },
        {
         "name": "EDUCD",
         "rawType": "float64",
         "type": "float"
        },
        {
         "name": "LOOKING",
         "rawType": "float64",
         "type": "float"
        },
        {
         "name": "FTOTINC",
         "rawType": "float64",
         "type": "float"
        }
       ],
       "conversionMethod": "pd.DataFrame",
       "ref": "a4525b37-bb0f-4a56-b922-62e2744a1307",
       "rows": [
        [
         "count",
         "3239553.0",
         "3239553.0",
         "3239553.0",
         "3239553.0",
         "3239553.0",
         "3239553.0",
         "3239553.0",
         "3239553.0"
        ],
        [
         "mean",
         "42.22437725204681",
         "1.5097064317206725",
         "3.5834178357322752",
         "0.2926030227009714",
         "6.26696430032168",
         "65.10651870798225",
         "1.8589925832360206",
         "580076.7888335212"
        ],
        [
         "std",
         "23.803391848196284",
         "0.4999058534737101",
         "2.307586206486523",
         "0.800661167995722",
         "3.2482350916042715",
         "32.31874948349705",
         "1.214877665804182",
         "2121902.922018452"
        ],
        [
         "min",
         "0.0",
         "1.0",
         "1.0",
         "0.0",
         "0.0",
         "1.0",
         "0.0",
         "-15200.0"
        ],
        [
         "25%",
         "22.0",
         "1.0",
         "1.0",
         "0.0",
         "5.0",
         "50.0",
         "1.0",
         "40000.0"
        ],
        [
         "50%",
         "43.0",
         "2.0",
         "4.0",
         "0.0",
         "6.0",
         "64.0",
         "3.0",
         "79000.0"
        ],
        [
         "75%",
         "62.0",
         "2.0",
         "6.0",
         "0.0",
         "10.0",
         "101.0",
         "3.0",
         "141700.0"
        ],
        [
         "max",
         "96.0",
         "2.0",
         "6.0",
         "3.0",
         "11.0",
         "116.0",
         "3.0",
         "9999999.0"
        ]
       ],
       "shape": {
        "columns": 8,
        "rows": 8
       }
      },
      "text/html": [
       "<div>\n",
       "<style scoped>\n",
       "    .dataframe tbody tr th:only-of-type {\n",
       "        vertical-align: middle;\n",
       "    }\n",
       "\n",
       "    .dataframe tbody tr th {\n",
       "        vertical-align: top;\n",
       "    }\n",
       "\n",
       "    .dataframe thead th {\n",
       "        text-align: right;\n",
       "    }\n",
       "</style>\n",
       "<table border=\"1\" class=\"dataframe\">\n",
       "  <thead>\n",
       "    <tr style=\"text-align: right;\">\n",
       "      <th></th>\n",
       "      <th>AGE</th>\n",
       "      <th>SEX</th>\n",
       "      <th>MARST</th>\n",
       "      <th>CITIZEN</th>\n",
       "      <th>EDUC</th>\n",
       "      <th>EDUCD</th>\n",
       "      <th>LOOKING</th>\n",
       "      <th>FTOTINC</th>\n",
       "    </tr>\n",
       "  </thead>\n",
       "  <tbody>\n",
       "    <tr>\n",
       "      <th>count</th>\n",
       "      <td>3239553.000</td>\n",
       "      <td>3239553.000</td>\n",
       "      <td>3239553.000</td>\n",
       "      <td>3239553.000</td>\n",
       "      <td>3239553.000</td>\n",
       "      <td>3239553.000</td>\n",
       "      <td>3239553.000</td>\n",
       "      <td>3239553.000</td>\n",
       "    </tr>\n",
       "    <tr>\n",
       "      <th>mean</th>\n",
       "      <td>42.224</td>\n",
       "      <td>1.510</td>\n",
       "      <td>3.583</td>\n",
       "      <td>0.293</td>\n",
       "      <td>6.267</td>\n",
       "      <td>65.107</td>\n",
       "      <td>1.859</td>\n",
       "      <td>580076.789</td>\n",
       "    </tr>\n",
       "    <tr>\n",
       "      <th>std</th>\n",
       "      <td>23.803</td>\n",
       "      <td>0.500</td>\n",
       "      <td>2.308</td>\n",
       "      <td>0.801</td>\n",
       "      <td>3.248</td>\n",
       "      <td>32.319</td>\n",
       "      <td>1.215</td>\n",
       "      <td>2121902.922</td>\n",
       "    </tr>\n",
       "    <tr>\n",
       "      <th>min</th>\n",
       "      <td>0.000</td>\n",
       "      <td>1.000</td>\n",
       "      <td>1.000</td>\n",
       "      <td>0.000</td>\n",
       "      <td>0.000</td>\n",
       "      <td>1.000</td>\n",
       "      <td>0.000</td>\n",
       "      <td>-15200.000</td>\n",
       "    </tr>\n",
       "    <tr>\n",
       "      <th>25%</th>\n",
       "      <td>22.000</td>\n",
       "      <td>1.000</td>\n",
       "      <td>1.000</td>\n",
       "      <td>0.000</td>\n",
       "      <td>5.000</td>\n",
       "      <td>50.000</td>\n",
       "      <td>1.000</td>\n",
       "      <td>40000.000</td>\n",
       "    </tr>\n",
       "    <tr>\n",
       "      <th>50%</th>\n",
       "      <td>43.000</td>\n",
       "      <td>2.000</td>\n",
       "      <td>4.000</td>\n",
       "      <td>0.000</td>\n",
       "      <td>6.000</td>\n",
       "      <td>64.000</td>\n",
       "      <td>3.000</td>\n",
       "      <td>79000.000</td>\n",
       "    </tr>\n",
       "    <tr>\n",
       "      <th>75%</th>\n",
       "      <td>62.000</td>\n",
       "      <td>2.000</td>\n",
       "      <td>6.000</td>\n",
       "      <td>0.000</td>\n",
       "      <td>10.000</td>\n",
       "      <td>101.000</td>\n",
       "      <td>3.000</td>\n",
       "      <td>141700.000</td>\n",
       "    </tr>\n",
       "    <tr>\n",
       "      <th>max</th>\n",
       "      <td>96.000</td>\n",
       "      <td>2.000</td>\n",
       "      <td>6.000</td>\n",
       "      <td>3.000</td>\n",
       "      <td>11.000</td>\n",
       "      <td>116.000</td>\n",
       "      <td>3.000</td>\n",
       "      <td>9999999.000</td>\n",
       "    </tr>\n",
       "  </tbody>\n",
       "</table>\n",
       "</div>"
      ],
      "text/plain": [
       "              AGE         SEX       MARST     CITIZEN        EDUC       EDUCD  \\\n",
       "count 3239553.000 3239553.000 3239553.000 3239553.000 3239553.000 3239553.000   \n",
       "mean       42.224       1.510       3.583       0.293       6.267      65.107   \n",
       "std        23.803       0.500       2.308       0.801       3.248      32.319   \n",
       "min         0.000       1.000       1.000       0.000       0.000       1.000   \n",
       "25%        22.000       1.000       1.000       0.000       5.000      50.000   \n",
       "50%        43.000       2.000       4.000       0.000       6.000      64.000   \n",
       "75%        62.000       2.000       6.000       0.000      10.000     101.000   \n",
       "max        96.000       2.000       6.000       3.000      11.000     116.000   \n",
       "\n",
       "          LOOKING     FTOTINC  \n",
       "count 3239553.000 3239553.000  \n",
       "mean        1.859  580076.789  \n",
       "std         1.215 2121902.922  \n",
       "min         0.000  -15200.000  \n",
       "25%         1.000   40000.000  \n",
       "50%         3.000   79000.000  \n",
       "75%         3.000  141700.000  \n",
       "max         3.000 9999999.000  "
      ]
     },
     "execution_count": 91,
     "metadata": {},
     "output_type": "execute_result"
    }
   ],
   "source": [
    "acs=pd.read_csv(\"usa_00003.csv\")\n",
    "# Select only variables in the list above\n",
    "acs = acs[[\"AGE\", \"SEX\",\"MARST\",\"CITIZEN\", \"EDUC\", \"EDUCD\", \"LOOKING\", \"FTOTINC\"]]\n",
    "# show info and description of variables. \n",
    "acs.info()\n",
    "acs.describe()\n"
   ]
  },
  {
   "cell_type": "markdown",
   "metadata": {},
   "source": [
    "Pay attention to the averages here total income for example"
   ]
  },
  {
   "cell_type": "code",
   "execution_count": 92,
   "metadata": {},
   "outputs": [],
   "source": [
    "# see that the values 9999999 = N/A change that into nan with the following code \n",
    "acs=acs.rename(columns={\"FTOTINC\": \"familyIncome\"})\n",
    "acs[\"familyIncome\"] = acs[\"familyIncome\"].replace(9999999, np.nan)"
   ]
  },
  {
   "cell_type": "code",
   "execution_count": null,
   "metadata": {},
   "outputs": [
    {
     "name": "stdout",
     "output_type": "stream",
     "text": [
      "SEX\n",
      "2    1651221\n",
      "1    1588332\n",
      "Name: count, dtype: int64\n",
      "MARST\n",
      "1    1338592\n",
      "6    1326614\n",
      "4     296419\n",
      "5     175626\n",
      "2      60316\n",
      "3      41986\n",
      "Name: count, dtype: int64\n",
      "EDUC\n",
      "6     957679\n",
      "10    507242\n",
      "7     378171\n",
      "11    320738\n",
      "1     235229\n",
      "8     217713\n",
      "2     208489\n",
      "0     189602\n",
      "5      82793\n",
      "4      74787\n",
      "3      67110\n",
      "Name: count, dtype: int64\n"
     ]
    }
   ],
   "source": [
    "# Lets use value_counts() to check our SEX, MARST and EDUC variables variable\n",
    "\n",
    "print(acs.SEX.value_counts())\n",
    "print(acs.MARST.value_counts())\n",
    "print(acs.EDUC.value_counts())\n"
   ]
  },
  {
   "cell_type": "code",
   "execution_count": 94,
   "metadata": {},
   "outputs": [
    {
     "data": {
      "text/plain": [
       "MARST\n",
       "1    1338592\n",
       "6    1326614\n",
       "4     296419\n",
       "5     175626\n",
       "2      60316\n",
       "3      41986\n",
       "Name: count, dtype: int64"
      ]
     },
     "execution_count": 94,
     "metadata": {},
     "output_type": "execute_result"
    }
   ],
   "source": [
    "# Value counts for MARST\n",
    "acs.MARST.value_counts()"
   ]
  },
  {
   "cell_type": "code",
   "execution_count": 95,
   "metadata": {},
   "outputs": [
    {
     "data": {
      "text/plain": [
       "CITIZEN\n",
       "0    2831596\n",
       "2     213640\n",
       "3     163153\n",
       "1      31164\n",
       "Name: count, dtype: int64"
      ]
     },
     "execution_count": 95,
     "metadata": {},
     "output_type": "execute_result"
    }
   ],
   "source": [
    "acs.CITIZEN.value_counts()"
   ]
  },
  {
   "cell_type": "code",
   "execution_count": 96,
   "metadata": {},
   "outputs": [
    {
     "data": {
      "text/plain": [
       "EDUC  HS\n",
       "6     1     957679\n",
       "10    1     507242\n",
       "7     1     378171\n",
       "11    1     320738\n",
       "1     0     235229\n",
       "8     1     217713\n",
       "2     0     208489\n",
       "0     0     189602\n",
       "5     0      82793\n",
       "4     0      74787\n",
       "3     0      67110\n",
       "Name: count, dtype: int64"
      ]
     },
     "execution_count": 96,
     "metadata": {},
     "output_type": "execute_result"
    }
   ],
   "source": [
    "# define function dummy\n",
    "# Define criteria, return 1 , else return 0\n",
    "    \n",
    "def dummyHS(x):\n",
    "    if x>=6:\n",
    "        return 1\n",
    "    else: \n",
    "        return 0\n",
    "\n",
    "acs['HS']=acs[\"EDUC\"].apply(dummyHS)\n",
    "acs[['EDUC','HS']].head(10)   \n",
    "acs[['EDUC', 'HS']].value_counts(dropna=False)"
   ]
  },
  {
   "cell_type": "markdown",
   "metadata": {},
   "source": [
    "## Boolean Variables\n",
    "\n",
    "To store qualitative yes or no information Python uses **Boolean variables**. Instead of transforming boolean variables into 0/1 dummy variables tehy can be directly used as regressors in the output their coefficient is then named `varname[T.True]`. These variables are treated such that **TRUE=1** and **FALSE=0**.\n",
    "\n",
    "Below we will take the femail dummy variable and recoded as a boolean variable and introduce it in the regression. See below. "
   ]
  },
  {
   "cell_type": "code",
   "execution_count": 97,
   "metadata": {},
   "outputs": [
    {
     "data": {
      "text/plain": [
       "CITIZEN\n",
       "0    2831596\n",
       "2     213640\n",
       "3     163153\n",
       "1      31164\n",
       "Name: count, dtype: int64"
      ]
     },
     "metadata": {},
     "output_type": "display_data"
    },
    {
     "data": {
      "text/plain": [
       "noncitizen\n",
       "False    3076400\n",
       "True      163153\n",
       "Name: count, dtype: int64"
      ]
     },
     "execution_count": 97,
     "metadata": {},
     "output_type": "execute_result"
    }
   ],
   "source": [
    "display(acs.CITIZEN.value_counts())\n",
    "# Create the boolean variable \n",
    "# Define a criteria in parenthesis and save that into a new variable\n",
    "# In this case, has dependents \n",
    "acs['noncitizen'] = (acs['CITIZEN'] ==3  )\n",
    "\n",
    "acs['noncitizen'].value_counts()\n"
   ]
  },
  {
   "cell_type": "code",
   "execution_count": 98,
   "metadata": {},
   "outputs": [
    {
     "data": {
      "application/vnd.microsoft.datawrangler.viewer.v0+json": {
       "columns": [
        {
         "name": "MARST",
         "rawType": "int64",
         "type": "integer"
        },
        {
         "name": "count",
         "rawType": "int64",
         "type": "integer"
        }
       ],
       "conversionMethod": "pd.DataFrame",
       "ref": "c3b2bd14-aab2-4c23-81cc-451efcb4899e",
       "rows": [
        [
         "1",
         "1338592"
        ],
        [
         "2",
         "60316"
        ],
        [
         "3",
         "41986"
        ],
        [
         "4",
         "296419"
        ],
        [
         "5",
         "175626"
        ],
        [
         "6",
         "1326614"
        ]
       ],
       "shape": {
        "columns": 1,
        "rows": 6
       }
      },
      "text/html": [
       "<div>\n",
       "<style scoped>\n",
       "    .dataframe tbody tr th:only-of-type {\n",
       "        vertical-align: middle;\n",
       "    }\n",
       "\n",
       "    .dataframe tbody tr th {\n",
       "        vertical-align: top;\n",
       "    }\n",
       "\n",
       "    .dataframe thead th {\n",
       "        text-align: right;\n",
       "    }\n",
       "</style>\n",
       "<table border=\"1\" class=\"dataframe\">\n",
       "  <thead>\n",
       "    <tr style=\"text-align: right;\">\n",
       "      <th>col_0</th>\n",
       "      <th>count</th>\n",
       "    </tr>\n",
       "    <tr>\n",
       "      <th>MARST</th>\n",
       "      <th></th>\n",
       "    </tr>\n",
       "  </thead>\n",
       "  <tbody>\n",
       "    <tr>\n",
       "      <th>1</th>\n",
       "      <td>1338592</td>\n",
       "    </tr>\n",
       "    <tr>\n",
       "      <th>2</th>\n",
       "      <td>60316</td>\n",
       "    </tr>\n",
       "    <tr>\n",
       "      <th>3</th>\n",
       "      <td>41986</td>\n",
       "    </tr>\n",
       "    <tr>\n",
       "      <th>4</th>\n",
       "      <td>296419</td>\n",
       "    </tr>\n",
       "    <tr>\n",
       "      <th>5</th>\n",
       "      <td>175626</td>\n",
       "    </tr>\n",
       "    <tr>\n",
       "      <th>6</th>\n",
       "      <td>1326614</td>\n",
       "    </tr>\n",
       "  </tbody>\n",
       "</table>\n",
       "</div>"
      ],
      "text/plain": [
       "col_0    count\n",
       "MARST         \n",
       "1      1338592\n",
       "2        60316\n",
       "3        41986\n",
       "4       296419\n",
       "5       175626\n",
       "6      1326614"
      ]
     },
     "execution_count": 98,
     "metadata": {},
     "output_type": "execute_result"
    }
   ],
   "source": [
    "freq_MARST= pd.crosstab(acs['MARST'], columns='count')\n",
    "freq_MARST"
   ]
  },
  {
   "cell_type": "markdown",
   "metadata": {},
   "source": [
    "# Regression with many categories\n",
    "\n",
    "When working with categorical variables, polynomials or orther specifications, the influence of one variables is capture by several regressors. In our example below the effect of marital status is captured by six regressors of their respective dummy variables. \n",
    "\n",
    "Our model is of the form:\n",
    "\n",
    "$$log(wage) = \\beta_0 + \\beta_1* education + \\beta_2*sex + \\\\ + \\beta_3*age + \\beta_4*married +\\beta_5*marriedns \\beta_6*separated + \\beta_7*divorced + \\beta_8*widowed  + \\beta_9*single + u $$\n",
    "\n",
    "\n",
    "To add this to your regression he simplest way is using **`C(varname)`** this will convert the variable into a categorical instead of numerical and create dummy variables for each category\n",
    "\n",
    "When you want to add variables that are arithmetic operations of other variables instead of creating a separate variable you can add them just by using **`I(formula)`** This will be useful for creating dummies inside the regression, see the example of the sex variable.\n",
    "\n",
    "\n"
   ]
  },
  {
   "cell_type": "code",
   "execution_count": 99,
   "metadata": {},
   "outputs": [
    {
     "name": "stdout",
     "output_type": "stream",
     "text": [
      "['Intercept', 'C(MARST)[T.2]', 'C(MARST)[T.3]', 'C(MARST)[T.4]', 'C(MARST)[T.5]', 'C(MARST)[T.6]', 'HS', 'AGE', 'I(SEX - 1)']\n"
     ]
    }
   ],
   "source": [
    "# directly using categorical variables in regression formula:\n",
    "m7 = smf.ols(formula =\"np.log(familyIncome) ~ HS +  AGE + I(SEX-1)\", \n",
    "                      data=acs[acs[\"familyIncome\"]>0]).fit()\n",
    "m8 = smf.ols(formula =\"np.log(familyIncome) ~ HS +  AGE +  I(SEX-1)+ C(MARST)\", \n",
    "                      data=acs[acs[\"familyIncome\"]>0]).fit()\n",
    "\n",
    "# Create a vector with the variable list to organize the output of the results\n",
    "variable_names = m8.params.index.tolist()\n",
    "print(variable_names)"
   ]
  },
  {
   "cell_type": "code",
   "execution_count": 100,
   "metadata": {},
   "outputs": [
    {
     "data": {
      "text/html": [
       "Regression on Wages<br><table style=\"text-align:center\"><tr><td colspan=\"3\" style=\"border-bottom: 1px solid black\"></td></tr>\n",
       "<tr><td style=\"text-align:left\"></td><td colspan=\"2\"><em>Dependent variable: np.log(familyIncome)</em></td></tr><tr><td style=\"text-align:left\"></td><tr><td></td><td colspan=\"1\">All</td><td colspan=\"1\">With Marital Status</td></tr><tr><td style=\"text-align:left\"></td><td>(1)</td><td>(2)</td></tr>\n",
       "<tr><td colspan=\"3\" style=\"border-bottom: 1px solid black\"></td></tr>\n",
       "\n",
       "<tr><td style=\"text-align:left\">Intercept</td><td>11.197<sup>***</sup></td><td>11.910<sup>***</sup></td></tr>\n",
       "<tr><td style=\"text-align:left\"></td><td>(0.001)</td><td>(0.002)</td></tr>\n",
       "<tr><td style=\"text-align:left\">HS</td><td>0.260<sup>***</sup></td><td>0.082<sup>***</sup></td></tr>\n",
       "<tr><td style=\"text-align:left\"></td><td>(0.002)</td><td>(0.002)</td></tr>\n",
       "<tr><td style=\"text-align:left\">I(SEX - 1)</td><td>-0.081<sup>***</sup></td><td>-0.046<sup>***</sup></td></tr>\n",
       "<tr><td style=\"text-align:left\"></td><td>(0.001)</td><td>(0.001)</td></tr>\n",
       "<tr><td style=\"text-align:left\">AGE</td><td>-0.005<sup>***</sup></td><td>-0.010<sup>***</sup></td></tr>\n",
       "<tr><td style=\"text-align:left\"></td><td>(0.000)</td><td>(0.000)</td></tr>\n",
       "<tr><td style=\"text-align:left\">C(MARST)[T.2]</td><td></td><td>-0.618<sup>***</sup></td></tr>\n",
       "<tr><td style=\"text-align:left\"></td><td></td><td>(0.005)</td></tr>\n",
       "<tr><td style=\"text-align:left\">C(MARST)[T.3]</td><td></td><td>-1.007<sup>***</sup></td></tr>\n",
       "<tr><td style=\"text-align:left\"></td><td></td><td>(0.005)</td></tr>\n",
       "<tr><td style=\"text-align:left\">C(MARST)[T.4]</td><td></td><td>-0.806<sup>***</sup></td></tr>\n",
       "<tr><td style=\"text-align:left\"></td><td></td><td>(0.002)</td></tr>\n",
       "<tr><td style=\"text-align:left\">C(MARST)[T.5]</td><td></td><td>-0.715<sup>***</sup></td></tr>\n",
       "<tr><td style=\"text-align:left\"></td><td></td><td>(0.003)</td></tr>\n",
       "<tr><td style=\"text-align:left\">C(MARST)[T.6]</td><td></td><td>-0.716<sup>***</sup></td></tr>\n",
       "<tr><td style=\"text-align:left\"></td><td></td><td>(0.002)</td></tr>\n",
       "\n",
       "<td colspan=\"3\" style=\"border-bottom: 1px solid black\"></td></tr>\n",
       "<tr><td style=\"text-align: left\">Observations</td><td>3041492</td><td>3041492</td></tr><tr><td style=\"text-align: left\">R<sup>2</sup></td><td>0.013</td><td>0.116</td></tr><tr><td style=\"text-align: left\">Adjusted R<sup>2</sup></td><td>0.013</td><td>0.116</td></tr><tr><td style=\"text-align: left\">Residual Std. Error</td><td>1.013 (df=3041488)</td><td>0.959 (df=3041483)</td></tr><tr><td style=\"text-align: left\">F Statistic</td><td>13546.370<sup>***</sup> (df=3; 3041488)</td><td>50102.975<sup>***</sup> (df=8; 3041483)</td></tr>\n",
       "<tr><td colspan=\"3\" style=\"border-bottom: 1px solid black\"></td></tr><tr><td style=\"text-align: left\">Note:</td><td colspan=\"2\" style=\"text-align: right\"><sup>*</sup>p&lt;0.1; <sup>**</sup>p&lt;0.05; <sup>***</sup>p&lt;0.01</td></tr></table>"
      ],
      "text/plain": [
       "<IPython.core.display.HTML object>"
      ]
     },
     "execution_count": 100,
     "metadata": {},
     "output_type": "execute_result"
    }
   ],
   "source": [
    "# print regression table:\n",
    "ms = Stargazer([m7,m8])\n",
    "\n",
    "HTML(ms.render_html())\n",
    "\n",
    "\n",
    "ms.title('Regression on Wages')\n",
    "ms.custom_columns(['All', 'With Marital Status'], [1, 1])\n",
    "ms.covariate_order(['Intercept', 'HS', 'I(SEX - 1)', 'AGE', 'C(MARST)[T.2]', 'C(MARST)[T.3]', 'C(MARST)[T.4]', 'C(MARST)[T.5]', 'C(MARST)[T.6]'])\n",
    "HTML(ms.render_html())\n"
   ]
  },
  {
   "cell_type": "markdown",
   "metadata": {},
   "source": [
    "### Choosing a new the reference category\n"
   ]
  },
  {
   "cell_type": "code",
   "execution_count": 101,
   "metadata": {},
   "outputs": [
    {
     "data": {
      "text/html": [
       "<table style=\"text-align:center\"><tr><td colspan=\"2\" style=\"border-bottom: 1px solid black\"></td></tr>\n",
       "<tr><td style=\"text-align:left\"></td><td colspan=\"1\"><em>Dependent variable: np.log(familyIncome)</em></td></tr><tr><td style=\"text-align:left\"></td><tr><td style=\"text-align:left\"></td><td>(1)</td></tr>\n",
       "<tr><td colspan=\"2\" style=\"border-bottom: 1px solid black\"></td></tr>\n",
       "\n",
       "<tr><td style=\"text-align:left\">AGE</td><td>-0.010<sup>***</sup></td></tr>\n",
       "<tr><td style=\"text-align:left\"></td><td>(0.000)</td></tr>\n",
       "<tr><td style=\"text-align:left\">C(MARST, Treatment(6))[T.1]</td><td>0.730<sup>***</sup></td></tr>\n",
       "<tr><td style=\"text-align:left\"></td><td>(0.002)</td></tr>\n",
       "<tr><td style=\"text-align:left\">C(MARST, Treatment(6))[T.2]</td><td>0.130<sup>***</sup></td></tr>\n",
       "<tr><td style=\"text-align:left\"></td><td>(0.005)</td></tr>\n",
       "<tr><td style=\"text-align:left\">C(MARST, Treatment(6))[T.3]</td><td>-0.270<sup>***</sup></td></tr>\n",
       "<tr><td style=\"text-align:left\"></td><td>(0.005)</td></tr>\n",
       "<tr><td style=\"text-align:left\">C(MARST, Treatment(6))[T.4]</td><td>-0.083<sup>***</sup></td></tr>\n",
       "<tr><td style=\"text-align:left\"></td><td>(0.002)</td></tr>\n",
       "<tr><td style=\"text-align:left\">C(MARST, Treatment(6))[T.5]</td><td>0.009<sup>***</sup></td></tr>\n",
       "<tr><td style=\"text-align:left\"></td><td>(0.003)</td></tr>\n",
       "<tr><td style=\"text-align:left\">HS</td><td>0.074<sup>***</sup></td></tr>\n",
       "<tr><td style=\"text-align:left\"></td><td>(0.002)</td></tr>\n",
       "<tr><td style=\"text-align:left\">I(SEX - 1)</td><td>-0.046<sup>***</sup></td></tr>\n",
       "<tr><td style=\"text-align:left\"></td><td>(0.001)</td></tr>\n",
       "<tr><td style=\"text-align:left\">Intercept</td><td>11.210<sup>***</sup></td></tr>\n",
       "<tr><td style=\"text-align:left\"></td><td>(0.001)</td></tr>\n",
       "<tr><td style=\"text-align:left\">noncitizen[T.True]</td><td>-0.250<sup>***</sup></td></tr>\n",
       "<tr><td style=\"text-align:left\"></td><td>(0.003)</td></tr>\n",
       "\n",
       "<td colspan=\"2\" style=\"border-bottom: 1px solid black\"></td></tr>\n",
       "<tr><td style=\"text-align: left\">Observations</td><td>3041492</td></tr><tr><td style=\"text-align: left\">R<sup>2</sup></td><td>0.119</td></tr><tr><td style=\"text-align: left\">Adjusted R<sup>2</sup></td><td>0.119</td></tr><tr><td style=\"text-align: left\">Residual Std. Error</td><td>0.957 (df=3041482)</td></tr><tr><td style=\"text-align: left\">F Statistic</td><td>45742.991<sup>***</sup> (df=9; 3041482)</td></tr>\n",
       "<tr><td colspan=\"2\" style=\"border-bottom: 1px solid black\"></td></tr><tr><td style=\"text-align: left\">Note:</td><td colspan=\"1\" style=\"text-align: right\"><sup>*</sup>p&lt;0.1; <sup>**</sup>p&lt;0.05; <sup>***</sup>p&lt;0.01</td></tr></table>"
      ],
      "text/plain": [
       "<IPython.core.display.HTML object>"
      ]
     },
     "execution_count": 101,
     "metadata": {},
     "output_type": "execute_result"
    }
   ],
   "source": [
    "# rerun regression with different reference category:\n",
    "reg_newref = smf.ols(formula='np.log(familyIncome) ~ HS +  I(SEX-1) + AGE + noncitizen + '\n",
    "                             'C(MARST, Treatment(6))', \n",
    "                     data=acs[acs[\"familyIncome\"]>0]).fit()\n",
    "\n",
    "\n",
    "# print regression table:\n",
    "m9s = Stargazer([reg_newref])\n",
    "HTML(m9s.render_html())\n",
    "\n"
   ]
  },
  {
   "cell_type": "markdown",
   "metadata": {},
   "source": [
    "# Create the Dummies Separate \n",
    "If you want only one category compared to everything else see below"
   ]
  },
  {
   "cell_type": "code",
   "execution_count": 102,
   "metadata": {},
   "outputs": [
    {
     "name": "stdout",
     "output_type": "stream",
     "text": [
      "<class 'pandas.core.frame.DataFrame'>\n",
      "RangeIndex: 3239553 entries, 0 to 3239552\n",
      "Data columns (total 16 columns):\n",
      " #   Column        Dtype   \n",
      "---  ------        -----   \n",
      " 0   AGE           int64   \n",
      " 1   SEX           int64   \n",
      " 2   MARST         category\n",
      " 3   CITIZEN       int64   \n",
      " 4   EDUC          int64   \n",
      " 5   EDUCD         int64   \n",
      " 6   LOOKING       int64   \n",
      " 7   familyIncome  float64 \n",
      " 8   HS            int64   \n",
      " 9   noncitizen    bool    \n",
      " 10  MARST_1       bool    \n",
      " 11  MARST_2       bool    \n",
      " 12  MARST_3       bool    \n",
      " 13  MARST_4       bool    \n",
      " 14  MARST_5       bool    \n",
      " 15  MARST_6       bool    \n",
      "dtypes: bool(7), category(1), float64(1), int64(7)\n",
      "memory usage: 222.4 MB\n",
      "None\n"
     ]
    }
   ],
   "source": [
    "# Convert 'MARST' to categorical type\n",
    "acs['MARST'] = acs['MARST'].astype('category')\n",
    "\n",
    "# Create dummy variables for MARST\n",
    "marst_dummies = pd.get_dummies(acs['MARST'], prefix='MARST')\n",
    "\n",
    "# Concatenate the dummy variables with the original dataframe\n",
    "acs = pd.concat([acs, marst_dummies], axis=1)\n",
    "\n",
    "# Print the first few rows of the dataframe with dummy variables\n",
    "print(acs.info())\n",
    "#BE VERY CAREFUL WITH THIS PART BECAUSE IF YOU RUN MORE THAN ONCE \n",
    "#YOU WILL CREATE THE SAME VARIABLE A FEW TIMES"
   ]
  },
  {
   "cell_type": "code",
   "execution_count": 103,
   "metadata": {},
   "outputs": [
    {
     "data": {
      "text/plain": [
       "MARST_1\n",
       "False    1900961\n",
       "True     1338592\n",
       "Name: count, dtype: int64"
      ]
     },
     "execution_count": 103,
     "metadata": {},
     "output_type": "execute_result"
    }
   ],
   "source": [
    "acs[\"MARST_1\"].value_counts()"
   ]
  },
  {
   "cell_type": "code",
   "execution_count": 104,
   "metadata": {},
   "outputs": [
    {
     "data": {
      "text/html": [
       "<table style=\"text-align:center\"><tr><td colspan=\"2\" style=\"border-bottom: 1px solid black\"></td></tr>\n",
       "<tr><td style=\"text-align:left\"></td><td colspan=\"1\"><em>Dependent variable: np.log(familyIncome)</em></td></tr><tr><td style=\"text-align:left\"></td><tr><td style=\"text-align:left\"></td><td>(1)</td></tr>\n",
       "<tr><td colspan=\"2\" style=\"border-bottom: 1px solid black\"></td></tr>\n",
       "\n",
       "<tr><td style=\"text-align:left\">AGE</td><td>-0.010<sup>***</sup></td></tr>\n",
       "<tr><td style=\"text-align:left\"></td><td>(0.000)</td></tr>\n",
       "<tr><td style=\"text-align:left\">HS</td><td>0.072<sup>***</sup></td></tr>\n",
       "<tr><td style=\"text-align:left\"></td><td>(0.002)</td></tr>\n",
       "<tr><td style=\"text-align:left\">I(SEX - 1)</td><td>-0.064<sup>***</sup></td></tr>\n",
       "<tr><td style=\"text-align:left\"></td><td>(0.001)</td></tr>\n",
       "<tr><td style=\"text-align:left\">Intercept</td><td>11.204<sup>***</sup></td></tr>\n",
       "<tr><td style=\"text-align:left\"></td><td>(0.001)</td></tr>\n",
       "<tr><td style=\"text-align:left\">MARST_1[T.True]</td><td>0.726<sup>***</sup></td></tr>\n",
       "<tr><td style=\"text-align:left\"></td><td>(0.002)</td></tr>\n",
       "<tr><td style=\"text-align:left\">MARST_1[T.True]:I(SEX - 1)</td><td>0.038<sup>***</sup></td></tr>\n",
       "<tr><td style=\"text-align:left\"></td><td>(0.002)</td></tr>\n",
       "\n",
       "<td colspan=\"2\" style=\"border-bottom: 1px solid black\"></td></tr>\n",
       "<tr><td style=\"text-align: left\">Observations</td><td>3041492</td></tr><tr><td style=\"text-align: left\">R<sup>2</sup></td><td>0.115</td></tr><tr><td style=\"text-align: left\">Adjusted R<sup>2</sup></td><td>0.115</td></tr><tr><td style=\"text-align: left\">Residual Std. Error</td><td>0.960 (df=3041486)</td></tr><tr><td style=\"text-align: left\">F Statistic</td><td>79037.243<sup>***</sup> (df=5; 3041486)</td></tr>\n",
       "<tr><td colspan=\"2\" style=\"border-bottom: 1px solid black\"></td></tr><tr><td style=\"text-align: left\">Note:</td><td colspan=\"1\" style=\"text-align: right\"><sup>*</sup>p&lt;0.1; <sup>**</sup>p&lt;0.05; <sup>***</sup>p&lt;0.01</td></tr></table>"
      ],
      "text/plain": [
       "<IPython.core.display.HTML object>"
      ]
     },
     "execution_count": 104,
     "metadata": {},
     "output_type": "execute_result"
    }
   ],
   "source": [
    "m10 = smf.ols(formula='np.log(familyIncome) ~ HS +  I(SEX-1) + AGE + MARST_1 + MARST_1:I(SEX-1) ',\n",
    "              data=acs[acs[\"familyIncome\"]>0]).fit()\n",
    "\n",
    "\n",
    "# print regression table:\n",
    "m10s = Stargazer([m10])\n",
    "HTML(m10s.render_html())"
   ]
  },
  {
   "cell_type": "markdown",
   "metadata": {},
   "source": [
    "# Numeric variables into categories\n",
    "\n",
    "Sometimes we need to make numerical variables into categories because a linear relation with the dependent variable seems implausible or the interpretation is inconvenient. Or we simply want to have a different \n",
    "interpretation. "
   ]
  },
  {
   "cell_type": "code",
   "execution_count": 105,
   "metadata": {},
   "outputs": [
    {
     "name": "stdout",
     "output_type": "stream",
     "text": [
      "<class 'pandas.core.frame.DataFrame'>\n",
      "RangeIndex: 156 entries, 0 to 155\n",
      "Data columns (total 6 columns):\n",
      " #   Column   Non-Null Count  Dtype  \n",
      "---  ------   --------------  -----  \n",
      " 0   rank     156 non-null    int64  \n",
      " 1   lsalary  148 non-null    float64\n",
      " 2   LSAT     150 non-null    float64\n",
      " 3   GPA      149 non-null    float64\n",
      " 4   libvol   155 non-null    float64\n",
      " 5   cost     150 non-null    float64\n",
      "dtypes: float64(5), int64(1)\n",
      "memory usage: 7.4 KB\n"
     ]
    },
    {
     "data": {
      "text/plain": [
       "count   156.000\n",
       "mean     83.750\n",
       "std      50.064\n",
       "min       1.000\n",
       "25%      40.750\n",
       "50%      83.500\n",
       "75%     125.500\n",
       "max     175.000\n",
       "Name: rank, dtype: float64"
      ]
     },
     "execution_count": 105,
     "metadata": {},
     "output_type": "execute_result"
    }
   ],
   "source": [
    "lawsch85 = woo.dataWoo('lawsch85')[['rank', 'lsalary', 'LSAT', 'GPA', 'libvol', 'cost']]\n",
    "lawsch85.info()\n",
    "lawsch85['rank'].describe()"
   ]
  },
  {
   "cell_type": "markdown",
   "metadata": {},
   "source": [
    "In the example below the variable `rank` is the rank of the law school as a number between 1 and 175. We would like to compare schools in the different groups like in list below\n",
    "\n",
    "|School Rank | \n",
    "|-----------| \n",
    "|top 10 |\n",
    "|11-20 |\n",
    "|21-30 |\n",
    "|31-50 |\n",
    "|50-100 | \n",
    "|above 100 | \n",
    "\n",
    "\n",
    "In the code below we create variable for these categories. First define cut point and then create a new factor (categorical) variable based on these cut points using the cut command. "
   ]
  },
  {
   "cell_type": "code",
   "execution_count": 106,
   "metadata": {},
   "outputs": [
    {
     "data": {
      "application/vnd.microsoft.datawrangler.viewer.v0+json": {
       "columns": [
        {
         "name": "rc",
         "rawType": "category",
         "type": "unknown"
        },
        {
         "name": "count",
         "rawType": "int64",
         "type": "integer"
        }
       ],
       "conversionMethod": "pd.DataFrame",
       "ref": "055095c0-1846-400b-834a-5d1e7dd945e3",
       "rows": [
        [
         "top 10",
         "10"
        ],
        [
         "(10,20]",
         "12"
        ],
        [
         "(20,30]",
         "9"
        ],
        [
         "(30,50]",
         "17"
        ],
        [
         "(50,100]",
         "46"
        ],
        [
         "(100,175]",
         "62"
        ]
       ],
       "shape": {
        "columns": 1,
        "rows": 6
       }
      },
      "text/html": [
       "<div>\n",
       "<style scoped>\n",
       "    .dataframe tbody tr th:only-of-type {\n",
       "        vertical-align: middle;\n",
       "    }\n",
       "\n",
       "    .dataframe tbody tr th {\n",
       "        vertical-align: top;\n",
       "    }\n",
       "\n",
       "    .dataframe thead th {\n",
       "        text-align: right;\n",
       "    }\n",
       "</style>\n",
       "<table border=\"1\" class=\"dataframe\">\n",
       "  <thead>\n",
       "    <tr style=\"text-align: right;\">\n",
       "      <th>col_0</th>\n",
       "      <th>count</th>\n",
       "    </tr>\n",
       "    <tr>\n",
       "      <th>rc</th>\n",
       "      <th></th>\n",
       "    </tr>\n",
       "  </thead>\n",
       "  <tbody>\n",
       "    <tr>\n",
       "      <th>top 10</th>\n",
       "      <td>10</td>\n",
       "    </tr>\n",
       "    <tr>\n",
       "      <th>(10,20]</th>\n",
       "      <td>12</td>\n",
       "    </tr>\n",
       "    <tr>\n",
       "      <th>(20,30]</th>\n",
       "      <td>9</td>\n",
       "    </tr>\n",
       "    <tr>\n",
       "      <th>(30,50]</th>\n",
       "      <td>17</td>\n",
       "    </tr>\n",
       "    <tr>\n",
       "      <th>(50,100]</th>\n",
       "      <td>46</td>\n",
       "    </tr>\n",
       "    <tr>\n",
       "      <th>(100,175]</th>\n",
       "      <td>62</td>\n",
       "    </tr>\n",
       "  </tbody>\n",
       "</table>\n",
       "</div>"
      ],
      "text/plain": [
       "col_0      count\n",
       "rc              \n",
       "top 10        10\n",
       "(10,20]       12\n",
       "(20,30]        9\n",
       "(30,50]       17\n",
       "(50,100]      46\n",
       "(100,175]     62"
      ]
     },
     "execution_count": 106,
     "metadata": {},
     "output_type": "execute_result"
    }
   ],
   "source": [
    "# define cut points for the rank:\n",
    "cutpts = [0, 10, 20, 30, 50, 100, 175]\n",
    "\n",
    "# create categorical variable containing ranges for the rank:\n",
    "lawsch85['rc'] = pd.cut(lawsch85['rank'], bins=cutpts,\n",
    "                       labels=['top 10', '(10,20]', '(20,30]',\n",
    "                                '(30,50]', '(50,100]', '(100,175]'])\n",
    "\n",
    "# display frequencies:\n",
    "freq = pd.crosstab(lawsch85['rc'], columns='count')\n",
    "freq"
   ]
  },
  {
   "cell_type": "markdown",
   "metadata": {},
   "source": [
    "Estimate the following equation $$ log(salary)= \\beta_0 +\\beta_1*rankcat + \\beta_2*LSAT + \\beta_3*GPA + \\beta_4*log(libvol) + \\beta_5*log(cost)$$ But first follow the instructions to set the reference category, for the school ranking. \n",
    "\n",
    ">  Choose reference category, we want the last group as the reference category, so we use relevel. Save that in a new variable called rankcat"
   ]
  },
  {
   "cell_type": "code",
   "execution_count": 107,
   "metadata": {},
   "outputs": [
    {
     "name": "stdout",
     "output_type": "stream",
     "text": [
      "['Intercept', 'C(rc, Treatment(\"top 10\"))[T.(10,20]]', 'C(rc, Treatment(\"top 10\"))[T.(20,30]]', 'C(rc, Treatment(\"top 10\"))[T.(30,50]]', 'C(rc, Treatment(\"top 10\"))[T.(50,100]]', 'C(rc, Treatment(\"top 10\"))[T.(100,175]]', 'LSAT', 'GPA', 'np.log(libvol)', 'np.log(cost)']\n"
     ]
    }
   ],
   "source": [
    "# run regression:\n",
    "reg1 = smf.ols(formula='np.log(lsalary) ~ rank + LSAT + GPA + np.log(libvol)+ np.log(cost)',data=lawsch85).fit()\n",
    "reg2 = smf.ols(formula='np.log(lsalary) ~ C(rc, Treatment(\"top 10\")) +'\n",
    "              'LSAT + GPA + np.log(libvol)+ np.log(cost)',\n",
    "              data=lawsch85).fit()\n",
    "# Create a vector with the variable list to organize the output of the results\n",
    "variable_names = reg2.params.index.tolist()\n",
    "print(variable_names)"
   ]
  },
  {
   "cell_type": "code",
   "execution_count": 108,
   "metadata": {},
   "outputs": [
    {
     "data": {
      "text/html": [
       "Regression on Raking<br><table style=\"text-align:center\"><tr><td colspan=\"3\" style=\"border-bottom: 1px solid black\"></td></tr>\n",
       "<tr><td style=\"text-align:left\"></td><td colspan=\"2\"><em>Dependent variable: np.log(lsalary)</em></td></tr><tr><td style=\"text-align:left\"></td><tr><td></td><td colspan=\"1\">All</td><td colspan=\"1\">With Categories</td></tr><tr><td style=\"text-align:left\"></td><td>(1)</td><td>(2)</td></tr>\n",
       "<tr><td colspan=\"3\" style=\"border-bottom: 1px solid black\"></td></tr>\n",
       "\n",
       "<tr><td style=\"text-align:left\">C(rc, Treatment(\"top 10\"))[T.(10,20]]</td><td></td><td>-0.008<sup>**</sup></td></tr>\n",
       "<tr><td style=\"text-align:left\"></td><td></td><td>(0.004)</td></tr>\n",
       "<tr><td style=\"text-align:left\">C(rc, Treatment(\"top 10\"))[T.(100,175]]</td><td></td><td>-0.064<sup>***</sup></td></tr>\n",
       "<tr><td style=\"text-align:left\"></td><td></td><td>(0.005)</td></tr>\n",
       "<tr><td style=\"text-align:left\">C(rc, Treatment(\"top 10\"))[T.(20,30]]</td><td></td><td>-0.016<sup>***</sup></td></tr>\n",
       "<tr><td style=\"text-align:left\"></td><td></td><td>(0.005)</td></tr>\n",
       "<tr><td style=\"text-align:left\">C(rc, Treatment(\"top 10\"))[T.(30,50]]</td><td></td><td>-0.037<sup>***</sup></td></tr>\n",
       "<tr><td style=\"text-align:left\"></td><td></td><td>(0.004)</td></tr>\n",
       "<tr><td style=\"text-align:left\">C(rc, Treatment(\"top 10\"))[T.(50,100]]</td><td></td><td>-0.049<sup>***</sup></td></tr>\n",
       "<tr><td style=\"text-align:left\"></td><td></td><td>(0.005)</td></tr>\n",
       "<tr><td style=\"text-align:left\">GPA</td><td>0.022<sup>***</sup></td><td>0.003<sup></sup></td></tr>\n",
       "<tr><td style=\"text-align:left\"></td><td>(0.008)</td><td>(0.007)</td></tr>\n",
       "<tr><td style=\"text-align:left\">Intercept</td><td>2.155<sup>***</sup></td><td>2.274<sup>***</sup></td></tr>\n",
       "<tr><td style=\"text-align:left\"></td><td>(0.049)</td><td>(0.044)</td></tr>\n",
       "<tr><td style=\"text-align:left\">LSAT</td><td>0.000<sup></sup></td><td>0.000<sup></sup></td></tr>\n",
       "<tr><td style=\"text-align:left\"></td><td>(0.000)</td><td>(0.000)</td></tr>\n",
       "<tr><td style=\"text-align:left\">np.log(cost)</td><td>0.003<sup></sup></td><td>0.002<sup></sup></td></tr>\n",
       "<tr><td style=\"text-align:left\"></td><td>(0.003)</td><td>(0.002)</td></tr>\n",
       "<tr><td style=\"text-align:left\">np.log(libvol)</td><td>0.009<sup>***</sup></td><td>0.004<sup></sup></td></tr>\n",
       "<tr><td style=\"text-align:left\"></td><td>(0.003)</td><td>(0.003)</td></tr>\n",
       "<tr><td style=\"text-align:left\">rank</td><td>-0.000<sup>***</sup></td><td></td></tr>\n",
       "<tr><td style=\"text-align:left\"></td><td>(0.000)</td><td></td></tr>\n",
       "\n",
       "<td colspan=\"3\" style=\"border-bottom: 1px solid black\"></td></tr>\n",
       "<tr><td style=\"text-align: left\">Observations</td><td>136</td><td>136</td></tr><tr><td style=\"text-align: left\">R<sup>2</sup></td><td>0.846</td><td>0.903</td></tr><tr><td style=\"text-align: left\">Adjusted R<sup>2</sup></td><td>0.840</td><td>0.896</td></tr><tr><td style=\"text-align: left\">Residual Std. Error</td><td>0.010 (df=130)</td><td>0.008 (df=126)</td></tr><tr><td style=\"text-align: left\">F Statistic</td><td>142.385<sup>***</sup> (df=5; 130)</td><td>130.927<sup>***</sup> (df=9; 126)</td></tr>\n",
       "<tr><td colspan=\"3\" style=\"border-bottom: 1px solid black\"></td></tr><tr><td style=\"text-align: left\">Note:</td><td colspan=\"2\" style=\"text-align: right\"><sup>*</sup>p&lt;0.1; <sup>**</sup>p&lt;0.05; <sup>***</sup>p&lt;0.01</td></tr></table>"
      ],
      "text/plain": [
       "<IPython.core.display.HTML object>"
      ]
     },
     "execution_count": 108,
     "metadata": {},
     "output_type": "execute_result"
    }
   ],
   "source": [
    "# try using chatgpt to create a dictionary with the variables from reg2 to improve the names for your regression output\n",
    "\n",
    "ms = Stargazer([reg1,reg2])\n",
    "\n",
    "HTML(ms.render_html())\n",
    "\n",
    "\n",
    "ms.title('Regression on Raking')\n",
    "ms.custom_columns(['All', 'With Categories'], [1, 1])\n",
    "# ms.covariate_order(['Intercept', 'LSAT', 'GPA', 'np.log(libvol)', 'np.log(cost)', 'rank',\n",
    "#                    'C(rc, Treatment(\"top 10\"))[T.(10,20]]', 'C(rc, Treatment(\"top 10\"))[T.(20,30]]', \n",
    "#                    'C(rc, Treatment(\"top 10\"))[T.(30,50]]', 'C(rc, Treatment(\"top 10\"))[T.(50,100]]', \n",
    "#                    'C(rc, Treatment(\"top 10\"))[T.(100,175]]'])\n",
    "#ms.rename_covariates(new_coefficient_names)\n",
    "\n",
    "HTML(ms.render_html())"
   ]
  },
  {
   "cell_type": "markdown",
   "metadata": {},
   "source": [
    "# Categorical dependent variables \n",
    "\n",
    "When you have a categorical dependent variable you can use regular OLS model, this will be a linear probability model LPM or you can use logit or probit models.\n",
    "\n",
    "The Python code for these last two models is:\n",
    "\n",
    "# Estimate logit model:\n",
    "\n",
    "Your y variable is binary 0 or 1 \n",
    "\n",
    ">`reg_logit = smf.logit(formula='y ~ x1 + x2 + ...+ xn',\n",
    "                      data=mydata)`\n",
    "\n",
    "disp = 0 avoids printing out information during the estimation:\n",
    "\n",
    ">`results_logit = reg_logit.fit(disp=0)`\n",
    "\n",
    "\n",
    "# Estimate probit model:\n",
    ">`reg_probit = smf.probit(formula='y ~ x1 + x2 + ...+ xn',\n",
    "                      data=mydata)\n",
    "results_probit = reg_probit.fit(disp=0)`"
   ]
  },
  {
   "cell_type": "code",
   "execution_count": 109,
   "metadata": {},
   "outputs": [
    {
     "name": "stdout",
     "output_type": "stream",
     "text": [
      "This application is used to convert notebook files (*.ipynb)\n",
      "        to various other formats.\n",
      "\n",
      "        WARNING: THE COMMANDLINE INTERFACE MAY CHANGE IN FUTURE RELEASES.\n",
      "\n",
      "Options\n",
      "=======\n",
      "The options below are convenience aliases to configurable class-options,\n",
      "as listed in the \"Equivalent to\" description-line of the aliases.\n",
      "To see all configurable class-options for some <cmd>, use:\n",
      "    <cmd> --help-all\n",
      "\n",
      "--debug\n",
      "    set log level to logging.DEBUG (maximize logging output)\n",
      "    Equivalent to: [--Application.log_level=10]\n",
      "--show-config\n",
      "    Show the application's configuration (human-readable format)\n",
      "    Equivalent to: [--Application.show_config=True]\n",
      "--show-config-json\n",
      "    Show the application's configuration (json format)\n",
      "    Equivalent to: [--Application.show_config_json=True]\n",
      "--generate-config\n",
      "    generate default config file\n",
      "    Equivalent to: [--JupyterApp.generate_config=True]\n",
      "-y\n",
      "    Answer yes to any questions instead of prompting.\n",
      "    Equivalent to: [--JupyterApp.answer_yes=True]\n",
      "--execute\n",
      "    Execute the notebook prior to export.\n",
      "    Equivalent to: [--ExecutePreprocessor.enabled=True]\n",
      "--allow-errors\n",
      "    Continue notebook execution even if one of the cells throws an error and include the error message in the cell output (the default behaviour is to abort conversion). This flag is only relevant if '--execute' was specified, too.\n",
      "    Equivalent to: [--ExecutePreprocessor.allow_errors=True]\n",
      "--stdin\n",
      "    read a single notebook file from stdin. Write the resulting notebook with default basename 'notebook.*'\n",
      "    Equivalent to: [--NbConvertApp.from_stdin=True]\n",
      "--stdout\n",
      "    Write notebook output to stdout instead of files.\n",
      "    Equivalent to: [--NbConvertApp.writer_class=StdoutWriter]\n",
      "--inplace\n",
      "    Run nbconvert in place, overwriting the existing notebook (only\n",
      "            relevant when converting to notebook format)\n",
      "    Equivalent to: [--NbConvertApp.use_output_suffix=False --NbConvertApp.export_format=notebook --FilesWriter.build_directory=]\n",
      "--clear-output\n",
      "    Clear output of current file and save in place,\n",
      "            overwriting the existing notebook.\n",
      "    Equivalent to: [--NbConvertApp.use_output_suffix=False --NbConvertApp.export_format=notebook --FilesWriter.build_directory= --ClearOutputPreprocessor.enabled=True]\n",
      "--coalesce-streams\n",
      "    Coalesce consecutive stdout and stderr outputs into one stream (within each cell).\n",
      "    Equivalent to: [--NbConvertApp.use_output_suffix=False --NbConvertApp.export_format=notebook --FilesWriter.build_directory= --CoalesceStreamsPreprocessor.enabled=True]\n",
      "--no-prompt\n",
      "    Exclude input and output prompts from converted document.\n",
      "    Equivalent to: [--TemplateExporter.exclude_input_prompt=True --TemplateExporter.exclude_output_prompt=True]\n",
      "--no-input\n",
      "    Exclude input cells and output prompts from converted document.\n",
      "            This mode is ideal for generating code-free reports.\n",
      "    Equivalent to: [--TemplateExporter.exclude_output_prompt=True --TemplateExporter.exclude_input=True --TemplateExporter.exclude_input_prompt=True]\n",
      "--allow-chromium-download\n",
      "    Whether to allow downloading chromium if no suitable version is found on the system.\n",
      "    Equivalent to: [--WebPDFExporter.allow_chromium_download=True]\n",
      "--disable-chromium-sandbox\n",
      "    Disable chromium security sandbox when converting to PDF..\n",
      "    Equivalent to: [--WebPDFExporter.disable_sandbox=True]\n",
      "--show-input\n",
      "    Shows code input. This flag is only useful for dejavu users.\n",
      "    Equivalent to: [--TemplateExporter.exclude_input=False]\n",
      "--embed-images\n",
      "    Embed the images as base64 dataurls in the output. This flag is only useful for the HTML/WebPDF/Slides exports.\n",
      "    Equivalent to: [--HTMLExporter.embed_images=True]\n",
      "--sanitize-html\n",
      "    Whether the HTML in Markdown cells and cell outputs should be sanitized..\n",
      "    Equivalent to: [--HTMLExporter.sanitize_html=True]\n",
      "--log-level=<Enum>\n",
      "    Set the log level by value or name.\n",
      "    Choices: any of [0, 10, 20, 30, 40, 50, 'DEBUG', 'INFO', 'WARN', 'ERROR', 'CRITICAL']\n",
      "    Default: 30\n",
      "    Equivalent to: [--Application.log_level]\n",
      "--config=<Unicode>\n",
      "    Full path of a config file.\n",
      "    Default: ''\n",
      "    Equivalent to: [--JupyterApp.config_file]\n",
      "--to=<Unicode>\n",
      "    The export format to be used, either one of the built-in formats\n",
      "            ['asciidoc', 'custom', 'html', 'latex', 'markdown', 'notebook', 'pdf', 'python', 'qtpdf', 'qtpng', 'rst', 'script', 'slides', 'webpdf']\n",
      "            or a dotted object name that represents the import path for an\n",
      "            ``Exporter`` class\n",
      "    Default: ''\n",
      "    Equivalent to: [--NbConvertApp.export_format]\n",
      "--template=<Unicode>\n",
      "    Name of the template to use\n",
      "    Default: ''\n",
      "    Equivalent to: [--TemplateExporter.template_name]\n",
      "--template-file=<Unicode>\n",
      "    Name of the template file to use\n",
      "    Default: None\n",
      "    Equivalent to: [--TemplateExporter.template_file]\n",
      "--theme=<Unicode>\n",
      "    Template specific theme(e.g. the name of a JupyterLab CSS theme distributed\n",
      "    as prebuilt extension for the lab template)\n",
      "    Default: 'light'\n",
      "    Equivalent to: [--HTMLExporter.theme]\n",
      "--sanitize_html=<Bool>\n",
      "    Whether the HTML in Markdown cells and cell outputs should be sanitized.This\n",
      "    should be set to True by nbviewer or similar tools.\n",
      "    Default: False\n",
      "    Equivalent to: [--HTMLExporter.sanitize_html]\n",
      "--writer=<DottedObjectName>\n",
      "    Writer class used to write the\n",
      "                                        results of the conversion\n",
      "    Default: 'FilesWriter'\n",
      "    Equivalent to: [--NbConvertApp.writer_class]\n",
      "--post=<DottedOrNone>\n",
      "    PostProcessor class used to write the\n",
      "                                        results of the conversion\n",
      "    Default: ''\n",
      "    Equivalent to: [--NbConvertApp.postprocessor_class]\n",
      "--output=<Unicode>\n",
      "    Overwrite base name use for output files.\n",
      "                Supports pattern replacements '{notebook_name}'.\n",
      "    Default: '{notebook_name}'\n",
      "    Equivalent to: [--NbConvertApp.output_base]\n",
      "--output-dir=<Unicode>\n",
      "    Directory to write output(s) to. Defaults\n",
      "                                  to output to the directory of each notebook. To recover\n",
      "                                  previous default behaviour (outputting to the current\n",
      "                                  working directory) use . as the flag value.\n",
      "    Default: ''\n",
      "    Equivalent to: [--FilesWriter.build_directory]\n",
      "--reveal-prefix=<Unicode>\n",
      "    The URL prefix for reveal.js (version 3.x).\n",
      "            This defaults to the reveal CDN, but can be any url pointing to a copy\n",
      "            of reveal.js.\n",
      "            For speaker notes to work, this must be a relative path to a local\n",
      "            copy of reveal.js: e.g., \"reveal.js\".\n",
      "            If a relative path is given, it must be a subdirectory of the\n",
      "            current directory (from which the server is run).\n",
      "            See the usage documentation\n",
      "            (https://nbconvert.readthedocs.io/en/latest/usage.html#reveal-js-html-slideshow)\n",
      "            for more details.\n",
      "    Default: ''\n",
      "    Equivalent to: [--SlidesExporter.reveal_url_prefix]\n",
      "--nbformat=<Enum>\n",
      "    The nbformat version to write.\n",
      "            Use this to downgrade notebooks.\n",
      "    Choices: any of [1, 2, 3, 4]\n",
      "    Default: 4\n",
      "    Equivalent to: [--NotebookExporter.nbformat_version]\n",
      "\n",
      "Examples\n",
      "--------\n",
      "\n",
      "    The simplest way to use nbconvert is\n",
      "\n",
      "            > jupyter nbconvert mynotebook.ipynb --to html\n",
      "\n",
      "            Options include ['asciidoc', 'custom', 'html', 'latex', 'markdown', 'notebook', 'pdf', 'python', 'qtpdf', 'qtpng', 'rst', 'script', 'slides', 'webpdf'].\n",
      "\n",
      "            > jupyter nbconvert --to latex mynotebook.ipynb\n",
      "\n",
      "            Both HTML and LaTeX support multiple output templates. LaTeX includes\n",
      "            'base', 'article' and 'report'.  HTML includes 'basic', 'lab' and\n",
      "            'classic'. You can specify the flavor of the format used.\n",
      "\n",
      "            > jupyter nbconvert --to html --template lab mynotebook.ipynb\n",
      "\n",
      "            You can also pipe the output to stdout, rather than a file\n",
      "\n",
      "            > jupyter nbconvert mynotebook.ipynb --stdout\n",
      "\n",
      "            PDF is generated via latex\n",
      "\n",
      "            > jupyter nbconvert mynotebook.ipynb --to pdf\n",
      "\n",
      "            You can get (and serve) a Reveal.js-powered slideshow\n",
      "\n",
      "            > jupyter nbconvert myslides.ipynb --to slides --post serve\n",
      "\n",
      "            Multiple notebooks can be given at the command line in a couple of\n",
      "            different ways:\n",
      "\n",
      "            > jupyter nbconvert notebook*.ipynb\n",
      "            > jupyter nbconvert notebook1.ipynb notebook2.ipynb\n",
      "\n",
      "            or you can specify the notebooks list in a config file, containing::\n",
      "\n",
      "                c.NbConvertApp.notebooks = [\"my_notebook.ipynb\"]\n",
      "\n",
      "            > jupyter nbconvert --config mycfg.py\n",
      "\n",
      "To see all available configurables, use `--help-all`.\n",
      "\n"
     ]
    },
    {
     "name": "stderr",
     "output_type": "stream",
     "text": [
      "[NbConvertApp] WARNING | pattern 'H11_320Lab_QualitativePart2.ipynb' matched no files\n"
     ]
    }
   ],
   "source": [
    "!jupyter nbconvert --to html H11_320Lab_QualitativePart2.ipynb"
   ]
  },
  {
   "cell_type": "markdown",
   "metadata": {},
   "source": [
    "&nbsp;\n",
    "<hr />\n",
    "<p style=\"font-family:palatino; text-align: center;font-size: 15px\">ECON320 Python Programming Laboratory</a></p>\n",
    "<p style=\"font-family:palatino; text-align: center;font-size: 15px\">Professor <em> Paloma Lopez de mesa Moyano</em></a></p>\n",
    "<p style=\"font-family:palatino; text-align: center;font-size: 15px\"><span style=\"color: #6666FF;\"><em>paloma.moyano@emory.edu</em></span></p>\n",
    "\n",
    "<p style=\"font-family:palatino; text-align: center;font-size: 15px\">Department of Economics</a></p>\n",
    "<p style=\"font-family:palatino; text-align: center; color: #012169;font-size: 15px\">Emory University</a></p>\n",
    "\n",
    "&nbsp;"
   ]
  }
 ],
 "metadata": {
  "kernelspec": {
   "display_name": "base",
   "language": "python",
   "name": "python3"
  },
  "language_info": {
   "codemirror_mode": {
    "name": "ipython",
    "version": 3
   },
   "file_extension": ".py",
   "mimetype": "text/x-python",
   "name": "python",
   "nbconvert_exporter": "python",
   "pygments_lexer": "ipython3",
   "version": "3.12.7"
  }
 },
 "nbformat": 4,
 "nbformat_minor": 4
}
