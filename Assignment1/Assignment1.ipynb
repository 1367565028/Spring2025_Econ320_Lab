{
 "cells": [
  {
   "cell_type": "markdown",
   "metadata": {},
   "source": [
    "<font size=\"10\"> \n",
    "\n",
    "Assignment  1:  Wooldridge Data and Summary Stats \n",
    "\n",
    "<font size=\"5\"> \n",
    "\n",
    "Author: Michael Zhao "
   ]
  },
  {
   "cell_type": "markdown",
   "metadata": {},
   "source": [
    "\n",
    "<font size=\"8\">  <span style=\"color:darkblue\"> Prep </span>\n",
    "\n",
    "<font size=\"3\"> Before we try to answer the questions, we need to get everything ready to use."
   ]
  },
  {
   "cell_type": "code",
   "execution_count": 1,
   "metadata": {},
   "outputs": [],
   "source": [
    "\n",
    "# import neccesary package \n",
    "import wooldridge as woo\n",
    "import numpy as np \n",
    "import pandas as pd\n",
    "import matplotlib.pyplot as plt\n",
    "import seaborn as sns\n",
    "import termcolor as tm\n",
    "\n",
    "# set up neccesary data\n",
    "data1 = woo.dataWoo(\"fertil2\")\n",
    "data2 = woo.dataWoo(\"meap01\")\n",
    "\n",
    "#describe the data with only 3 decimal places\n",
    "pd.options.display.float_format = \"{:.3f}\".format"
   ]
  },
  {
   "cell_type": "markdown",
   "metadata": {},
   "source": [
    "<font size=\"8\">  <span style=\"color:darkblue\"> Question 1 </span>"
   ]
  },
  {
   "cell_type": "markdown",
   "metadata": {},
   "source": [
    "a. How many observations are in this data set"
   ]
  },
  {
   "cell_type": "code",
   "execution_count": 2,
   "metadata": {},
   "outputs": [
    {
     "data": {
      "text/html": [
       "<div>\n",
       "<style scoped>\n",
       "    .dataframe tbody tr th:only-of-type {\n",
       "        vertical-align: middle;\n",
       "    }\n",
       "\n",
       "    .dataframe tbody tr th {\n",
       "        vertical-align: top;\n",
       "    }\n",
       "\n",
       "    .dataframe thead th {\n",
       "        text-align: right;\n",
       "    }\n",
       "</style>\n",
       "<table border=\"1\" class=\"dataframe\">\n",
       "  <thead>\n",
       "    <tr style=\"text-align: right;\">\n",
       "      <th></th>\n",
       "      <th>mnthborn</th>\n",
       "      <th>yearborn</th>\n",
       "      <th>age</th>\n",
       "      <th>electric</th>\n",
       "      <th>radio</th>\n",
       "      <th>tv</th>\n",
       "      <th>bicycle</th>\n",
       "      <th>educ</th>\n",
       "      <th>ceb</th>\n",
       "      <th>agefbrth</th>\n",
       "      <th>...</th>\n",
       "      <th>heduc</th>\n",
       "      <th>agesq</th>\n",
       "      <th>urban</th>\n",
       "      <th>urb_educ</th>\n",
       "      <th>spirit</th>\n",
       "      <th>protest</th>\n",
       "      <th>catholic</th>\n",
       "      <th>frsthalf</th>\n",
       "      <th>educ0</th>\n",
       "      <th>evermarr</th>\n",
       "    </tr>\n",
       "  </thead>\n",
       "  <tbody>\n",
       "    <tr>\n",
       "      <th>count</th>\n",
       "      <td>4361.000</td>\n",
       "      <td>4361.000</td>\n",
       "      <td>4361.000</td>\n",
       "      <td>4358.000</td>\n",
       "      <td>4359.000</td>\n",
       "      <td>4359.000</td>\n",
       "      <td>4358.000</td>\n",
       "      <td>4361.000</td>\n",
       "      <td>4361.000</td>\n",
       "      <td>3273.000</td>\n",
       "      <td>...</td>\n",
       "      <td>1956.000</td>\n",
       "      <td>4361.000</td>\n",
       "      <td>4361.000</td>\n",
       "      <td>4361.000</td>\n",
       "      <td>4361.000</td>\n",
       "      <td>4361.000</td>\n",
       "      <td>4361.000</td>\n",
       "      <td>4361.000</td>\n",
       "      <td>4361.000</td>\n",
       "      <td>4361.000</td>\n",
       "    </tr>\n",
       "    <tr>\n",
       "      <th>mean</th>\n",
       "      <td>6.331</td>\n",
       "      <td>60.434</td>\n",
       "      <td>27.405</td>\n",
       "      <td>0.140</td>\n",
       "      <td>0.702</td>\n",
       "      <td>0.093</td>\n",
       "      <td>0.276</td>\n",
       "      <td>5.856</td>\n",
       "      <td>2.442</td>\n",
       "      <td>19.011</td>\n",
       "      <td>...</td>\n",
       "      <td>5.145</td>\n",
       "      <td>826.460</td>\n",
       "      <td>0.517</td>\n",
       "      <td>3.469</td>\n",
       "      <td>0.422</td>\n",
       "      <td>0.228</td>\n",
       "      <td>0.102</td>\n",
       "      <td>0.540</td>\n",
       "      <td>0.208</td>\n",
       "      <td>0.477</td>\n",
       "    </tr>\n",
       "    <tr>\n",
       "      <th>std</th>\n",
       "      <td>3.323</td>\n",
       "      <td>8.683</td>\n",
       "      <td>8.685</td>\n",
       "      <td>0.347</td>\n",
       "      <td>0.458</td>\n",
       "      <td>0.290</td>\n",
       "      <td>0.447</td>\n",
       "      <td>3.927</td>\n",
       "      <td>2.407</td>\n",
       "      <td>3.092</td>\n",
       "      <td>...</td>\n",
       "      <td>4.803</td>\n",
       "      <td>526.923</td>\n",
       "      <td>0.500</td>\n",
       "      <td>4.294</td>\n",
       "      <td>0.494</td>\n",
       "      <td>0.419</td>\n",
       "      <td>0.303</td>\n",
       "      <td>0.498</td>\n",
       "      <td>0.406</td>\n",
       "      <td>0.500</td>\n",
       "    </tr>\n",
       "    <tr>\n",
       "      <th>min</th>\n",
       "      <td>1.000</td>\n",
       "      <td>38.000</td>\n",
       "      <td>15.000</td>\n",
       "      <td>0.000</td>\n",
       "      <td>0.000</td>\n",
       "      <td>0.000</td>\n",
       "      <td>0.000</td>\n",
       "      <td>0.000</td>\n",
       "      <td>0.000</td>\n",
       "      <td>10.000</td>\n",
       "      <td>...</td>\n",
       "      <td>0.000</td>\n",
       "      <td>225.000</td>\n",
       "      <td>0.000</td>\n",
       "      <td>0.000</td>\n",
       "      <td>0.000</td>\n",
       "      <td>0.000</td>\n",
       "      <td>0.000</td>\n",
       "      <td>0.000</td>\n",
       "      <td>0.000</td>\n",
       "      <td>0.000</td>\n",
       "    </tr>\n",
       "    <tr>\n",
       "      <th>25%</th>\n",
       "      <td>3.000</td>\n",
       "      <td>55.000</td>\n",
       "      <td>20.000</td>\n",
       "      <td>0.000</td>\n",
       "      <td>0.000</td>\n",
       "      <td>0.000</td>\n",
       "      <td>0.000</td>\n",
       "      <td>3.000</td>\n",
       "      <td>1.000</td>\n",
       "      <td>17.000</td>\n",
       "      <td>...</td>\n",
       "      <td>0.000</td>\n",
       "      <td>400.000</td>\n",
       "      <td>0.000</td>\n",
       "      <td>0.000</td>\n",
       "      <td>0.000</td>\n",
       "      <td>0.000</td>\n",
       "      <td>0.000</td>\n",
       "      <td>0.000</td>\n",
       "      <td>0.000</td>\n",
       "      <td>0.000</td>\n",
       "    </tr>\n",
       "    <tr>\n",
       "      <th>50%</th>\n",
       "      <td>6.000</td>\n",
       "      <td>62.000</td>\n",
       "      <td>26.000</td>\n",
       "      <td>0.000</td>\n",
       "      <td>1.000</td>\n",
       "      <td>0.000</td>\n",
       "      <td>0.000</td>\n",
       "      <td>7.000</td>\n",
       "      <td>2.000</td>\n",
       "      <td>19.000</td>\n",
       "      <td>...</td>\n",
       "      <td>6.000</td>\n",
       "      <td>676.000</td>\n",
       "      <td>1.000</td>\n",
       "      <td>0.000</td>\n",
       "      <td>0.000</td>\n",
       "      <td>0.000</td>\n",
       "      <td>0.000</td>\n",
       "      <td>1.000</td>\n",
       "      <td>0.000</td>\n",
       "      <td>0.000</td>\n",
       "    </tr>\n",
       "    <tr>\n",
       "      <th>75%</th>\n",
       "      <td>9.000</td>\n",
       "      <td>68.000</td>\n",
       "      <td>33.000</td>\n",
       "      <td>0.000</td>\n",
       "      <td>1.000</td>\n",
       "      <td>0.000</td>\n",
       "      <td>1.000</td>\n",
       "      <td>8.000</td>\n",
       "      <td>4.000</td>\n",
       "      <td>20.000</td>\n",
       "      <td>...</td>\n",
       "      <td>8.000</td>\n",
       "      <td>1089.000</td>\n",
       "      <td>1.000</td>\n",
       "      <td>7.000</td>\n",
       "      <td>1.000</td>\n",
       "      <td>0.000</td>\n",
       "      <td>0.000</td>\n",
       "      <td>1.000</td>\n",
       "      <td>0.000</td>\n",
       "      <td>1.000</td>\n",
       "    </tr>\n",
       "    <tr>\n",
       "      <th>max</th>\n",
       "      <td>12.000</td>\n",
       "      <td>73.000</td>\n",
       "      <td>49.000</td>\n",
       "      <td>1.000</td>\n",
       "      <td>1.000</td>\n",
       "      <td>1.000</td>\n",
       "      <td>1.000</td>\n",
       "      <td>20.000</td>\n",
       "      <td>13.000</td>\n",
       "      <td>38.000</td>\n",
       "      <td>...</td>\n",
       "      <td>20.000</td>\n",
       "      <td>2401.000</td>\n",
       "      <td>1.000</td>\n",
       "      <td>20.000</td>\n",
       "      <td>1.000</td>\n",
       "      <td>1.000</td>\n",
       "      <td>1.000</td>\n",
       "      <td>1.000</td>\n",
       "      <td>1.000</td>\n",
       "      <td>1.000</td>\n",
       "    </tr>\n",
       "  </tbody>\n",
       "</table>\n",
       "<p>8 rows × 27 columns</p>\n",
       "</div>"
      ],
      "text/plain": [
       "       mnthborn  yearborn      age  electric    radio       tv  bicycle  \\\n",
       "count  4361.000  4361.000 4361.000  4358.000 4359.000 4359.000 4358.000   \n",
       "mean      6.331    60.434   27.405     0.140    0.702    0.093    0.276   \n",
       "std       3.323     8.683    8.685     0.347    0.458    0.290    0.447   \n",
       "min       1.000    38.000   15.000     0.000    0.000    0.000    0.000   \n",
       "25%       3.000    55.000   20.000     0.000    0.000    0.000    0.000   \n",
       "50%       6.000    62.000   26.000     0.000    1.000    0.000    0.000   \n",
       "75%       9.000    68.000   33.000     0.000    1.000    0.000    1.000   \n",
       "max      12.000    73.000   49.000     1.000    1.000    1.000    1.000   \n",
       "\n",
       "          educ      ceb  agefbrth  ...    heduc    agesq    urban  urb_educ  \\\n",
       "count 4361.000 4361.000  3273.000  ... 1956.000 4361.000 4361.000  4361.000   \n",
       "mean     5.856    2.442    19.011  ...    5.145  826.460    0.517     3.469   \n",
       "std      3.927    2.407     3.092  ...    4.803  526.923    0.500     4.294   \n",
       "min      0.000    0.000    10.000  ...    0.000  225.000    0.000     0.000   \n",
       "25%      3.000    1.000    17.000  ...    0.000  400.000    0.000     0.000   \n",
       "50%      7.000    2.000    19.000  ...    6.000  676.000    1.000     0.000   \n",
       "75%      8.000    4.000    20.000  ...    8.000 1089.000    1.000     7.000   \n",
       "max     20.000   13.000    38.000  ...   20.000 2401.000    1.000    20.000   \n",
       "\n",
       "        spirit  protest  catholic  frsthalf    educ0  evermarr  \n",
       "count 4361.000 4361.000  4361.000  4361.000 4361.000  4361.000  \n",
       "mean     0.422    0.228     0.102     0.540    0.208     0.477  \n",
       "std      0.494    0.419     0.303     0.498    0.406     0.500  \n",
       "min      0.000    0.000     0.000     0.000    0.000     0.000  \n",
       "25%      0.000    0.000     0.000     0.000    0.000     0.000  \n",
       "50%      0.000    0.000     0.000     1.000    0.000     0.000  \n",
       "75%      1.000    0.000     0.000     1.000    0.000     1.000  \n",
       "max      1.000    1.000     1.000     1.000    1.000     1.000  \n",
       "\n",
       "[8 rows x 27 columns]"
      ]
     },
     "execution_count": 2,
     "metadata": {},
     "output_type": "execute_result"
    }
   ],
   "source": [
    "#description of data\n",
    "data1.describe()"
   ]
  },
  {
   "cell_type": "markdown",
   "metadata": {},
   "source": [
    "<span style=\"color:red\"> There are 4361 observations, based on the first line 'count' in the data frame </span>"
   ]
  },
  {
   "cell_type": "markdown",
   "metadata": {},
   "source": [
    "b. Describe the variable \"yearborn\". Show the average level of education for those born in the year on the 25% and 75% percentile"
   ]
  },
  {
   "cell_type": "code",
   "execution_count": 3,
   "metadata": {},
   "outputs": [
    {
     "data": {
      "text/plain": [
       "count   4361.000\n",
       "mean      60.434\n",
       "std        8.683\n",
       "min       38.000\n",
       "25%       55.000\n",
       "50%       62.000\n",
       "75%       68.000\n",
       "max       73.000\n",
       "Name: yearborn, dtype: float64"
      ]
     },
     "execution_count": 3,
     "metadata": {},
     "output_type": "execute_result"
    }
   ],
   "source": [
    "# describe \"yearborn\"\n",
    "data1['yearborn'].describe()"
   ]
  },
  {
   "cell_type": "code",
   "execution_count": 4,
   "metadata": {},
   "outputs": [
    {
     "name": "stdout",
     "output_type": "stream",
     "text": [
      "The average for people born in the year on the 25% is 4.378\n",
      "The average for people born in the year on the 75% is 7.069\n"
     ]
    }
   ],
   "source": [
    "# show the average level of education for those born in the year on the 25% and 75% percentile\n",
    "edu25 = data1[data1['yearborn'] == 55]['educ'].mean()#number 55 is from the description of variable 'yearborn'\n",
    "edu75 = data1[data1['yearborn'] == 68]['educ'].mean()#number 68 is from the description of variable 'yearborn'\n",
    "print(f\"The average for people born in the year on the 25% is {edu25:.3f}\")\n",
    "print(f\"The average for people born in the year on the 75% is {edu75:.3f}\")"
   ]
  },
  {
   "cell_type": "markdown",
   "metadata": {},
   "source": [
    "c. Find the maximum number of children for households with TV in these data. "
   ]
  },
  {
   "cell_type": "code",
   "execution_count": 5,
   "metadata": {},
   "outputs": [
    {
     "name": "stdout",
     "output_type": "stream",
     "text": [
      "maximum number of children for households with TV in these data is  9\n"
     ]
    }
   ],
   "source": [
    "max_kids = data1[data1['tv'] == 1]['children'].max()\n",
    "print (\"maximum number of children for households with TV in these data is \", max_kids)"
   ]
  },
  {
   "cell_type": "markdown",
   "metadata": {},
   "source": [
    "d. Create a table where you present the average education and age at first birth by knowledge of birth control methods. What can you say about these results? "
   ]
  },
  {
   "cell_type": "code",
   "execution_count": 6,
   "metadata": {},
   "outputs": [
    {
     "data": {
      "text/html": [
       "<div>\n",
       "<style scoped>\n",
       "    .dataframe tbody tr th:only-of-type {\n",
       "        vertical-align: middle;\n",
       "    }\n",
       "\n",
       "    .dataframe tbody tr th {\n",
       "        vertical-align: top;\n",
       "    }\n",
       "\n",
       "    .dataframe thead th {\n",
       "        text-align: right;\n",
       "    }\n",
       "</style>\n",
       "<table border=\"1\" class=\"dataframe\">\n",
       "  <thead>\n",
       "    <tr style=\"text-align: right;\">\n",
       "      <th></th>\n",
       "      <th>educ</th>\n",
       "      <th>agefbrth</th>\n",
       "    </tr>\n",
       "    <tr>\n",
       "      <th>knowmeth</th>\n",
       "      <th></th>\n",
       "      <th></th>\n",
       "    </tr>\n",
       "  </thead>\n",
       "  <tbody>\n",
       "    <tr>\n",
       "      <th>0.000</th>\n",
       "      <td>2.487</td>\n",
       "      <td>19.913</td>\n",
       "    </tr>\n",
       "    <tr>\n",
       "      <th>1.000</th>\n",
       "      <td>5.994</td>\n",
       "      <td>18.985</td>\n",
       "    </tr>\n",
       "  </tbody>\n",
       "</table>\n",
       "</div>"
      ],
      "text/plain": [
       "          educ  agefbrth\n",
       "knowmeth                \n",
       "0.000    2.487    19.913\n",
       "1.000    5.994    18.985"
      ]
     },
     "metadata": {},
     "output_type": "display_data"
    }
   ],
   "source": [
    "crosstable = data1.groupby('knowmeth')[['educ', 'agefbrth']].mean() \n",
    "display(crosstable)"
   ]
  },
  {
   "cell_type": "markdown",
   "metadata": {},
   "source": [
    "<span style=\"color:red\">From the table, my opinion is that people have knowledge of birth control methods have higher years of education. Whether people have knowledge of birth control have no obvious affect on age of first birth</span>"
   ]
  },
  {
   "cell_type": "markdown",
   "metadata": {},
   "source": [
    "<font size=\"8\">  <span style=\"color:darkblue\"> Question 2 </span>"
   ]
  },
  {
   "cell_type": "markdown",
   "metadata": {},
   "source": [
    "a.  Find the correlation between math4, read4, lunch, and exppp. (Make a matrix and use a colored matrix like in the handout)  What do you conclude?"
   ]
  },
  {
   "cell_type": "code",
   "execution_count": 7,
   "metadata": {},
   "outputs": [
    {
     "data": {
      "image/png": "[encoded data removed]",
      "text/plain": [
       "<Figure size 640x480 with 2 Axes>"
      ]
     },
     "metadata": {},
     "output_type": "display_data"
    }
   ],
   "source": [
    "selected_columns = ['math4', 'read4', 'lunch', 'exppp']\n",
    "correlation_matrix = data2[selected_columns].corr()\n",
    "sns.heatmap(correlation_matrix, annot=True, cmap='coolwarm', vmin=-1, vmax=1) # I used chat for the graph, I forgot everything about plotting with the 2 packages :(\n",
    "plt.title('Correlation Matrix')\n",
    "plt.show()"
   ]
  },
  {
   "cell_type": "markdown",
   "metadata": {},
   "source": [
    "<span style=\"color:red\">My conclusion is that there are strong postitive correlation between performance in math and performance in read. I think this is because smart people are just good at anything. There is a strong negative correlation between percent students eligible for free or reduced lunch and performance in math and read. My opinion towards this is that poor kids need free lunch, when there are more poor kids in the school, the educational resource wouldn't be good in school. Expenditures per pupil don't really have strong correlation with other factors.</span>"
   ]
  },
  {
   "cell_type": "markdown",
   "metadata": {},
   "source": [
    "b.  Find the largest and smallest values of math4 and read4. Does the range make sense? Explain."
   ]
  },
  {
   "cell_type": "code",
   "execution_count": 8,
   "metadata": {},
   "outputs": [
    {
     "name": "stdout",
     "output_type": "stream",
     "text": [
      "the largest value of math4 is  100.0\n",
      "the smallest value of math4 is  0.0\n",
      "the largest value of read4 is  100.0\n",
      "the smallest value of read4 is  0.0\n"
     ]
    }
   ],
   "source": [
    "print(\"the largest value of math4 is \", data2['math4'].max())\n",
    "print(\"the smallest value of math4 is \", data2['math4'].min())\n",
    "print(\"the largest value of read4 is \", data2['read4'].max())\n",
    "print(\"the smallest value of read4 is \", data2['read4'].min())"
   ]
  },
  {
   "cell_type": "markdown",
   "metadata": {},
   "source": [
    "<span style=\"color:red\"> This range is too extreme in my opinion. It doesn't make sense, I don't think any school would have 0 percentage of students satisfactory for reading or math, if it is real, the department of education would already do something about it. I do believe the maximum value is reasonable.</span>"
   ]
  },
  {
   "cell_type": "markdown",
   "metadata": {},
   "source": [
    "c.  How many schools have a perfect pass rate on the math test? What percentage is this of the total sample of schools?"
   ]
  },
  {
   "cell_type": "code",
   "execution_count": 9,
   "metadata": {},
   "outputs": [
    {
     "name": "stdout",
     "output_type": "stream",
     "text": [
      "\u001b[31mThe number of schools with perfect pass rate on the math test is: 38\u001b[0m\n",
      "\u001b[31mThe percentage of it of the total sample is: 2.084%\u001b[0m\n"
     ]
    }
   ],
   "source": [
    "num1 = data2[data2['math4'] == 100].shape[0]\n",
    "per1 = (num1 / len(data2)) * 100\n",
    "\n",
    "print(tm.colored(f\"The number of schools with perfect pass rate on the math test is: {num1}\", \"red\"))\n",
    "print(tm.colored(f\"The percentage of it of the total sample is: {per1:.3f}%\", \"red\"))"
   ]
  },
  {
   "cell_type": "markdown",
   "metadata": {},
   "source": [
    "d.  How many schools have math pass rates of exactly 50%?"
   ]
  },
  {
   "cell_type": "code",
   "execution_count": 10,
   "metadata": {},
   "outputs": [
    {
     "name": "stdout",
     "output_type": "stream",
     "text": [
      "\u001b[31mThere are 17 schools with math pass rates of exactly 50%\u001b[0m\n"
     ]
    }
   ],
   "source": [
    "num2 = data2[data2['math4'] == 50].shape[0]\n",
    "print(tm.colored(f\"There are {num2} schools with math pass rates of exactly 50%\", \"red\"))"
   ]
  },
  {
   "cell_type": "markdown",
   "metadata": {},
   "source": [
    "e.  Find the average of exppp along with its standard deviation. Would you say there is a wide variation in per-pupil spending?"
   ]
  },
  {
   "cell_type": "code",
   "execution_count": 11,
   "metadata": {},
   "outputs": [
    {
     "name": "stdout",
     "output_type": "stream",
     "text": [
      "The average expenditure per pupil is 5194.865\u001b[0m\n",
      "The standard deviation of expenditure per pupil is 1091.890\u001b[0m\n"
     ]
    }
   ],
   "source": [
    "print(tm.colored(f\"The average expenditure per pupil is {data2['exppp'].mean():.3f}\"))\n",
    "print(tm.colored(f\"The standard deviation of expenditure per pupil is {data2['exppp'].std():.3f}\"))"
   ]
  },
  {
   "cell_type": "markdown",
   "metadata": {},
   "source": [
    "<span style = \"color:red\"> I would say that the variation is really big. This standard deviation is a really big number when seeing together witht the average.</span>"
   ]
  },
  {
   "cell_type": "markdown",
   "metadata": {},
   "source": [
    "<font size=\"8\">  <span style=\"color:darkblue\"> End </span>"
   ]
  },
  {
   "cell_type": "code",
   "execution_count": 12,
   "metadata": {},
   "outputs": [
    {
     "name": "stderr",
     "output_type": "stream",
     "text": [
      "[NbConvertApp] Converting notebook Assignment1.ipynb to html\n",
      "[NbConvertApp] WARNING | Alternative text is missing on 1 image(s).\n",
      "[NbConvertApp] Writing 344092 bytes to Assignment1.html\n"
     ]
    }
   ],
   "source": [
    "!jupyter nbconvert --to html Assignment1.ipynb"
   ]
  }
 ],
 "metadata": {
  "kernelspec": {
   "display_name": "base",
   "language": "python",
   "name": "python3"
  },
  "language_info": {
   "codemirror_mode": {
    "name": "ipython",
    "version": 3
   },
   "file_extension": ".py",
   "mimetype": "text/x-python",
   "name": "python",
   "nbconvert_exporter": "python",
   "pygments_lexer": "ipython3",
   "version": "3.12.7"
  }
 },
 "nbformat": 4,
 "nbformat_minor": 2
}
